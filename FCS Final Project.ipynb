{
 "cells": [
  {
   "cell_type": "markdown",
   "metadata": {},
   "source": [
    "# Foundation of Computer Science Project"
   ]
  },
  {
   "cell_type": "markdown",
   "metadata": {},
   "source": [
    "Riccardo Cervero"
   ]
  },
  {
   "cell_type": "markdown",
   "metadata": {},
   "source": [
    "Roll number: 794126"
   ]
  },
  {
   "cell_type": "markdown",
   "metadata": {},
   "source": [
    "Academic year 2018/2019"
   ]
  },
  {
   "cell_type": "markdown",
   "metadata": {},
   "source": [
    "Data Science"
   ]
  },
  {
   "cell_type": "markdown",
   "metadata": {},
   "source": [
    "Department of Informatics, Systems and Communication"
   ]
  },
  {
   "cell_type": "markdown",
   "metadata": {},
   "source": [
    "University of Milano Bicocca"
   ]
  },
  {
   "cell_type": "markdown",
   "metadata": {},
   "source": [
    "r.cervero@campus.unimib.it"
   ]
  },
  {
   "cell_type": "markdown",
   "metadata": {},
   "source": [
    "Import necessary libraries: re, pandas, numpy and time"
   ]
  },
  {
   "cell_type": "code",
   "execution_count": 5,
   "metadata": {},
   "outputs": [],
   "source": [
    "import pandas as pd\n",
    "import numpy as np\n",
    "import re\n",
    "import time"
   ]
  },
  {
   "cell_type": "code",
   "execution_count": 6,
   "metadata": {},
   "outputs": [],
   "source": [
    "start = time.time()"
   ]
  },
  {
   "cell_type": "markdown",
   "metadata": {},
   "source": [
    "Upload database using Pandas"
   ]
  },
  {
   "cell_type": "code",
   "execution_count": 7,
   "metadata": {},
   "outputs": [],
   "source": [
    "playstore = pd.read_csv('/users/riccardocervero/Desktop/googleplaystore.csv')\n",
    "playstore_users = pd.read_csv('/users/riccardocervero/Desktop/googleplaystore_user_reviews.csv')"
   ]
  },
  {
   "cell_type": "markdown",
   "metadata": {},
   "source": [
    "View 'playstore' data"
   ]
  },
  {
   "cell_type": "code",
   "execution_count": 8,
   "metadata": {},
   "outputs": [
    {
     "data": {
      "text/html": [
       "<div>\n",
       "<style scoped>\n",
       "    .dataframe tbody tr th:only-of-type {\n",
       "        vertical-align: middle;\n",
       "    }\n",
       "\n",
       "    .dataframe tbody tr th {\n",
       "        vertical-align: top;\n",
       "    }\n",
       "\n",
       "    .dataframe thead th {\n",
       "        text-align: right;\n",
       "    }\n",
       "</style>\n",
       "<table border=\"1\" class=\"dataframe\">\n",
       "  <thead>\n",
       "    <tr style=\"text-align: right;\">\n",
       "      <th></th>\n",
       "      <th>App</th>\n",
       "      <th>Category</th>\n",
       "      <th>Rating</th>\n",
       "      <th>Reviews</th>\n",
       "      <th>Size</th>\n",
       "      <th>Installs</th>\n",
       "      <th>Type</th>\n",
       "      <th>Price</th>\n",
       "      <th>Content Rating</th>\n",
       "      <th>Genres</th>\n",
       "      <th>Last Updated</th>\n",
       "      <th>Current Ver</th>\n",
       "      <th>Android Ver</th>\n",
       "    </tr>\n",
       "  </thead>\n",
       "  <tbody>\n",
       "    <tr>\n",
       "      <th>0</th>\n",
       "      <td>Photo Editor &amp; Candy Camera &amp; Grid &amp; ScrapBook</td>\n",
       "      <td>ART_AND_DESIGN</td>\n",
       "      <td>4.1</td>\n",
       "      <td>159</td>\n",
       "      <td>19M</td>\n",
       "      <td>10,000+</td>\n",
       "      <td>Free</td>\n",
       "      <td>0</td>\n",
       "      <td>Everyone</td>\n",
       "      <td>Art &amp; Design</td>\n",
       "      <td>January 7, 2018</td>\n",
       "      <td>1.0.0</td>\n",
       "      <td>4.0.3 and up</td>\n",
       "    </tr>\n",
       "    <tr>\n",
       "      <th>1</th>\n",
       "      <td>Coloring book moana</td>\n",
       "      <td>ART_AND_DESIGN</td>\n",
       "      <td>3.9</td>\n",
       "      <td>967</td>\n",
       "      <td>14M</td>\n",
       "      <td>500,000+</td>\n",
       "      <td>Free</td>\n",
       "      <td>0</td>\n",
       "      <td>Everyone</td>\n",
       "      <td>Art &amp; Design;Pretend Play</td>\n",
       "      <td>January 15, 2018</td>\n",
       "      <td>2.0.0</td>\n",
       "      <td>4.0.3 and up</td>\n",
       "    </tr>\n",
       "    <tr>\n",
       "      <th>2</th>\n",
       "      <td>U Launcher Lite – FREE Live Cool Themes, Hide ...</td>\n",
       "      <td>ART_AND_DESIGN</td>\n",
       "      <td>4.7</td>\n",
       "      <td>87510</td>\n",
       "      <td>8.7M</td>\n",
       "      <td>5,000,000+</td>\n",
       "      <td>Free</td>\n",
       "      <td>0</td>\n",
       "      <td>Everyone</td>\n",
       "      <td>Art &amp; Design</td>\n",
       "      <td>August 1, 2018</td>\n",
       "      <td>1.2.4</td>\n",
       "      <td>4.0.3 and up</td>\n",
       "    </tr>\n",
       "  </tbody>\n",
       "</table>\n",
       "</div>"
      ],
      "text/plain": [
       "                                                 App        Category  Rating  \\\n",
       "0     Photo Editor & Candy Camera & Grid & ScrapBook  ART_AND_DESIGN     4.1   \n",
       "1                                Coloring book moana  ART_AND_DESIGN     3.9   \n",
       "2  U Launcher Lite – FREE Live Cool Themes, Hide ...  ART_AND_DESIGN     4.7   \n",
       "\n",
       "  Reviews  Size    Installs  Type Price Content Rating  \\\n",
       "0     159   19M     10,000+  Free     0       Everyone   \n",
       "1     967   14M    500,000+  Free     0       Everyone   \n",
       "2   87510  8.7M  5,000,000+  Free     0       Everyone   \n",
       "\n",
       "                      Genres      Last Updated Current Ver   Android Ver  \n",
       "0               Art & Design   January 7, 2018       1.0.0  4.0.3 and up  \n",
       "1  Art & Design;Pretend Play  January 15, 2018       2.0.0  4.0.3 and up  \n",
       "2               Art & Design    August 1, 2018       1.2.4  4.0.3 and up  "
      ]
     },
     "execution_count": 8,
     "metadata": {},
     "output_type": "execute_result"
    }
   ],
   "source": [
    "playstore.head(3)"
   ]
  },
  {
   "cell_type": "code",
   "execution_count": 9,
   "metadata": {},
   "outputs": [
    {
     "data": {
      "text/plain": [
       "{'1.9',\n",
       " 'ART_AND_DESIGN',\n",
       " 'AUTO_AND_VEHICLES',\n",
       " 'BEAUTY',\n",
       " 'BOOKS_AND_REFERENCE',\n",
       " 'BUSINESS',\n",
       " 'COMICS',\n",
       " 'COMMUNICATION',\n",
       " 'DATING',\n",
       " 'EDUCATION',\n",
       " 'ENTERTAINMENT',\n",
       " 'EVENTS',\n",
       " 'FAMILY',\n",
       " 'FINANCE',\n",
       " 'FOOD_AND_DRINK',\n",
       " 'GAME',\n",
       " 'HEALTH_AND_FITNESS',\n",
       " 'HOUSE_AND_HOME',\n",
       " 'LIBRARIES_AND_DEMO',\n",
       " 'LIFESTYLE',\n",
       " 'MAPS_AND_NAVIGATION',\n",
       " 'MEDICAL',\n",
       " 'NEWS_AND_MAGAZINES',\n",
       " 'PARENTING',\n",
       " 'PERSONALIZATION',\n",
       " 'PHOTOGRAPHY',\n",
       " 'PRODUCTIVITY',\n",
       " 'SHOPPING',\n",
       " 'SOCIAL',\n",
       " 'SPORTS',\n",
       " 'TOOLS',\n",
       " 'TRAVEL_AND_LOCAL',\n",
       " 'VIDEO_PLAYERS',\n",
       " 'WEATHER'}"
      ]
     },
     "execution_count": 9,
     "metadata": {},
     "output_type": "execute_result"
    }
   ],
   "source": [
    "set(playstore['Category'])"
   ]
  },
  {
   "cell_type": "markdown",
   "metadata": {},
   "source": [
    "Among 'Category' values, the unexpected value '1.9' is found, due to the fact that all the elements of the row are moved to the left. Thus, '1.9' is likely a 'Rating' value."
   ]
  },
  {
   "cell_type": "code",
   "execution_count": 10,
   "metadata": {},
   "outputs": [
    {
     "data": {
      "text/html": [
       "<div>\n",
       "<style scoped>\n",
       "    .dataframe tbody tr th:only-of-type {\n",
       "        vertical-align: middle;\n",
       "    }\n",
       "\n",
       "    .dataframe tbody tr th {\n",
       "        vertical-align: top;\n",
       "    }\n",
       "\n",
       "    .dataframe thead th {\n",
       "        text-align: right;\n",
       "    }\n",
       "</style>\n",
       "<table border=\"1\" class=\"dataframe\">\n",
       "  <thead>\n",
       "    <tr style=\"text-align: right;\">\n",
       "      <th></th>\n",
       "      <th>App</th>\n",
       "      <th>Category</th>\n",
       "      <th>Rating</th>\n",
       "      <th>Reviews</th>\n",
       "      <th>Size</th>\n",
       "      <th>Installs</th>\n",
       "      <th>Type</th>\n",
       "      <th>Price</th>\n",
       "      <th>Content Rating</th>\n",
       "      <th>Genres</th>\n",
       "      <th>Last Updated</th>\n",
       "      <th>Current Ver</th>\n",
       "      <th>Android Ver</th>\n",
       "    </tr>\n",
       "  </thead>\n",
       "  <tbody>\n",
       "    <tr>\n",
       "      <th>10472</th>\n",
       "      <td>Life Made WI-Fi Touchscreen Photo Frame</td>\n",
       "      <td>1.9</td>\n",
       "      <td>19.0</td>\n",
       "      <td>3.0M</td>\n",
       "      <td>1,000+</td>\n",
       "      <td>Free</td>\n",
       "      <td>0</td>\n",
       "      <td>Everyone</td>\n",
       "      <td>NaN</td>\n",
       "      <td>February 11, 2018</td>\n",
       "      <td>1.0.19</td>\n",
       "      <td>4.0 and up</td>\n",
       "      <td>NaN</td>\n",
       "    </tr>\n",
       "  </tbody>\n",
       "</table>\n",
       "</div>"
      ],
      "text/plain": [
       "                                           App Category  Rating Reviews  \\\n",
       "10472  Life Made WI-Fi Touchscreen Photo Frame      1.9    19.0    3.0M   \n",
       "\n",
       "         Size Installs Type     Price Content Rating             Genres  \\\n",
       "10472  1,000+     Free    0  Everyone            NaN  February 11, 2018   \n",
       "\n",
       "      Last Updated Current Ver Android Ver  \n",
       "10472       1.0.19  4.0 and up         NaN  "
      ]
     },
     "execution_count": 10,
     "metadata": {},
     "output_type": "execute_result"
    }
   ],
   "source": [
    "playstore[playstore['Category']=='1.9']"
   ]
  },
  {
   "cell_type": "markdown",
   "metadata": {},
   "source": [
    "Row number 10472 is the only one containing this unexpected value. All values should be moved to the right, but unfortunately we don't have enough information to know whether 'Category' value should be set equal to 'PhotoFrame' or equal to None - in case the name of the Application was 'Life Made WI-Fi Touchscreen Photo Frame'. Thus, the best solution is to remove the entire row number 10472."
   ]
  },
  {
   "cell_type": "code",
   "execution_count": 11,
   "metadata": {},
   "outputs": [],
   "source": [
    "playstore = playstore.drop(index=10472)"
   ]
  },
  {
   "cell_type": "markdown",
   "metadata": {},
   "source": [
    "View 'playstore_users' data"
   ]
  },
  {
   "cell_type": "code",
   "execution_count": 12,
   "metadata": {},
   "outputs": [
    {
     "data": {
      "text/html": [
       "<div>\n",
       "<style scoped>\n",
       "    .dataframe tbody tr th:only-of-type {\n",
       "        vertical-align: middle;\n",
       "    }\n",
       "\n",
       "    .dataframe tbody tr th {\n",
       "        vertical-align: top;\n",
       "    }\n",
       "\n",
       "    .dataframe thead th {\n",
       "        text-align: right;\n",
       "    }\n",
       "</style>\n",
       "<table border=\"1\" class=\"dataframe\">\n",
       "  <thead>\n",
       "    <tr style=\"text-align: right;\">\n",
       "      <th></th>\n",
       "      <th>App</th>\n",
       "      <th>Translated_Review</th>\n",
       "      <th>Sentiment</th>\n",
       "      <th>Sentiment_Polarity</th>\n",
       "      <th>Sentiment_Subjectivity</th>\n",
       "    </tr>\n",
       "  </thead>\n",
       "  <tbody>\n",
       "    <tr>\n",
       "      <th>0</th>\n",
       "      <td>10 Best Foods for You</td>\n",
       "      <td>I like eat delicious food. That's I'm cooking ...</td>\n",
       "      <td>Positive</td>\n",
       "      <td>1.00</td>\n",
       "      <td>0.533333</td>\n",
       "    </tr>\n",
       "    <tr>\n",
       "      <th>1</th>\n",
       "      <td>10 Best Foods for You</td>\n",
       "      <td>This help eating healthy exercise regular basis</td>\n",
       "      <td>Positive</td>\n",
       "      <td>0.25</td>\n",
       "      <td>0.288462</td>\n",
       "    </tr>\n",
       "    <tr>\n",
       "      <th>2</th>\n",
       "      <td>10 Best Foods for You</td>\n",
       "      <td>NaN</td>\n",
       "      <td>NaN</td>\n",
       "      <td>NaN</td>\n",
       "      <td>NaN</td>\n",
       "    </tr>\n",
       "  </tbody>\n",
       "</table>\n",
       "</div>"
      ],
      "text/plain": [
       "                     App                                  Translated_Review  \\\n",
       "0  10 Best Foods for You  I like eat delicious food. That's I'm cooking ...   \n",
       "1  10 Best Foods for You    This help eating healthy exercise regular basis   \n",
       "2  10 Best Foods for You                                                NaN   \n",
       "\n",
       "  Sentiment  Sentiment_Polarity  Sentiment_Subjectivity  \n",
       "0  Positive                1.00                0.533333  \n",
       "1  Positive                0.25                0.288462  \n",
       "2       NaN                 NaN                     NaN  "
      ]
     },
     "execution_count": 12,
     "metadata": {},
     "output_type": "execute_result"
    }
   ],
   "source": [
    "playstore_users.head(3)"
   ]
  },
  {
   "cell_type": "markdown",
   "metadata": {},
   "source": [
    "# **1) Convert the app sizes to a number**"
   ]
  },
  {
   "cell_type": "code",
   "execution_count": 13,
   "metadata": {},
   "outputs": [
    {
     "data": {
      "text/html": [
       "<div>\n",
       "<style scoped>\n",
       "    .dataframe tbody tr th:only-of-type {\n",
       "        vertical-align: middle;\n",
       "    }\n",
       "\n",
       "    .dataframe tbody tr th {\n",
       "        vertical-align: top;\n",
       "    }\n",
       "\n",
       "    .dataframe thead th {\n",
       "        text-align: right;\n",
       "    }\n",
       "</style>\n",
       "<table border=\"1\" class=\"dataframe\">\n",
       "  <thead>\n",
       "    <tr style=\"text-align: right;\">\n",
       "      <th></th>\n",
       "      <th>App</th>\n",
       "      <th>Category</th>\n",
       "      <th>Rating</th>\n",
       "      <th>Reviews</th>\n",
       "      <th>Size</th>\n",
       "      <th>Installs</th>\n",
       "      <th>Type</th>\n",
       "      <th>Price</th>\n",
       "      <th>Content Rating</th>\n",
       "      <th>Genres</th>\n",
       "      <th>Last Updated</th>\n",
       "      <th>Current Ver</th>\n",
       "      <th>Android Ver</th>\n",
       "    </tr>\n",
       "  </thead>\n",
       "  <tbody>\n",
       "    <tr>\n",
       "      <th>0</th>\n",
       "      <td>Photo Editor &amp; Candy Camera &amp; Grid &amp; ScrapBook</td>\n",
       "      <td>ART_AND_DESIGN</td>\n",
       "      <td>4.1</td>\n",
       "      <td>159</td>\n",
       "      <td>19000000.0</td>\n",
       "      <td>10,000+</td>\n",
       "      <td>Free</td>\n",
       "      <td>0</td>\n",
       "      <td>Everyone</td>\n",
       "      <td>Art &amp; Design</td>\n",
       "      <td>January 7, 2018</td>\n",
       "      <td>1.0.0</td>\n",
       "      <td>4.0.3 and up</td>\n",
       "    </tr>\n",
       "    <tr>\n",
       "      <th>1</th>\n",
       "      <td>Coloring book moana</td>\n",
       "      <td>ART_AND_DESIGN</td>\n",
       "      <td>3.9</td>\n",
       "      <td>967</td>\n",
       "      <td>14000000.0</td>\n",
       "      <td>500,000+</td>\n",
       "      <td>Free</td>\n",
       "      <td>0</td>\n",
       "      <td>Everyone</td>\n",
       "      <td>Art &amp; Design;Pretend Play</td>\n",
       "      <td>January 15, 2018</td>\n",
       "      <td>2.0.0</td>\n",
       "      <td>4.0.3 and up</td>\n",
       "    </tr>\n",
       "    <tr>\n",
       "      <th>2</th>\n",
       "      <td>U Launcher Lite – FREE Live Cool Themes, Hide ...</td>\n",
       "      <td>ART_AND_DESIGN</td>\n",
       "      <td>4.7</td>\n",
       "      <td>87510</td>\n",
       "      <td>8700000.0</td>\n",
       "      <td>5,000,000+</td>\n",
       "      <td>Free</td>\n",
       "      <td>0</td>\n",
       "      <td>Everyone</td>\n",
       "      <td>Art &amp; Design</td>\n",
       "      <td>August 1, 2018</td>\n",
       "      <td>1.2.4</td>\n",
       "      <td>4.0.3 and up</td>\n",
       "    </tr>\n",
       "  </tbody>\n",
       "</table>\n",
       "</div>"
      ],
      "text/plain": [
       "                                                 App        Category  Rating  \\\n",
       "0     Photo Editor & Candy Camera & Grid & ScrapBook  ART_AND_DESIGN     4.1   \n",
       "1                                Coloring book moana  ART_AND_DESIGN     3.9   \n",
       "2  U Launcher Lite – FREE Live Cool Themes, Hide ...  ART_AND_DESIGN     4.7   \n",
       "\n",
       "  Reviews        Size    Installs  Type Price Content Rating  \\\n",
       "0     159  19000000.0     10,000+  Free     0       Everyone   \n",
       "1     967  14000000.0    500,000+  Free     0       Everyone   \n",
       "2   87510   8700000.0  5,000,000+  Free     0       Everyone   \n",
       "\n",
       "                      Genres      Last Updated Current Ver   Android Ver  \n",
       "0               Art & Design   January 7, 2018       1.0.0  4.0.3 and up  \n",
       "1  Art & Design;Pretend Play  January 15, 2018       2.0.0  4.0.3 and up  \n",
       "2               Art & Design    August 1, 2018       1.2.4  4.0.3 and up  "
      ]
     },
     "execution_count": 13,
     "metadata": {},
     "output_type": "execute_result"
    }
   ],
   "source": [
    "#Compile, group and name patterns\n",
    "to_int_re = re.compile('(?P<amount>\\d+\\.{0,1}\\d*)(?P<unit>\\w{0,1})')\n",
    "#Define a function which transform Giga, Mega and Kilo in numbers\n",
    "def unit_to_mult(unit):\n",
    "    if unit == 'G':\n",
    "        return 1000000000\n",
    "    if unit == 'M':\n",
    "        return 1000000\n",
    "    if unit == 'K':\n",
    "        return 1000\n",
    "    return 1\n",
    "#Define a function which definitely trasform the size in value in an integer \n",
    "def to_num(elem):\n",
    "    m = to_int_re.search(elem)\n",
    "    if m is None:\n",
    "        return np.nan \n",
    "    unit = m.group('unit')\n",
    "    mult = unit_to_mult(unit)\n",
    "    amount = float(m.group('amount'))\n",
    "    return int(amount * mult)\n",
    "#Apply function to the column\n",
    "playstore['Size'] = playstore['Size'].apply(to_num)\n",
    "playstore.head(3)"
   ]
  },
  {
   "cell_type": "markdown",
   "metadata": {},
   "source": [
    "# **2) Convert the number of installs to a number**"
   ]
  },
  {
   "cell_type": "code",
   "execution_count": 14,
   "metadata": {},
   "outputs": [
    {
     "data": {
      "text/html": [
       "<div>\n",
       "<style scoped>\n",
       "    .dataframe tbody tr th:only-of-type {\n",
       "        vertical-align: middle;\n",
       "    }\n",
       "\n",
       "    .dataframe tbody tr th {\n",
       "        vertical-align: top;\n",
       "    }\n",
       "\n",
       "    .dataframe thead th {\n",
       "        text-align: right;\n",
       "    }\n",
       "</style>\n",
       "<table border=\"1\" class=\"dataframe\">\n",
       "  <thead>\n",
       "    <tr style=\"text-align: right;\">\n",
       "      <th></th>\n",
       "      <th>App</th>\n",
       "      <th>Category</th>\n",
       "      <th>Rating</th>\n",
       "      <th>Reviews</th>\n",
       "      <th>Size</th>\n",
       "      <th>Installs</th>\n",
       "      <th>Type</th>\n",
       "      <th>Price</th>\n",
       "      <th>Content Rating</th>\n",
       "      <th>Genres</th>\n",
       "      <th>Last Updated</th>\n",
       "      <th>Current Ver</th>\n",
       "      <th>Android Ver</th>\n",
       "    </tr>\n",
       "  </thead>\n",
       "  <tbody>\n",
       "    <tr>\n",
       "      <th>0</th>\n",
       "      <td>Photo Editor &amp; Candy Camera &amp; Grid &amp; ScrapBook</td>\n",
       "      <td>ART_AND_DESIGN</td>\n",
       "      <td>4.1</td>\n",
       "      <td>159</td>\n",
       "      <td>19000000.0</td>\n",
       "      <td>10000</td>\n",
       "      <td>Free</td>\n",
       "      <td>0</td>\n",
       "      <td>Everyone</td>\n",
       "      <td>Art &amp; Design</td>\n",
       "      <td>January 7, 2018</td>\n",
       "      <td>1.0.0</td>\n",
       "      <td>4.0.3 and up</td>\n",
       "    </tr>\n",
       "  </tbody>\n",
       "</table>\n",
       "</div>"
      ],
      "text/plain": [
       "                                              App        Category  Rating  \\\n",
       "0  Photo Editor & Candy Camera & Grid & ScrapBook  ART_AND_DESIGN     4.1   \n",
       "\n",
       "  Reviews        Size  Installs  Type Price Content Rating        Genres  \\\n",
       "0     159  19000000.0     10000  Free     0       Everyone  Art & Design   \n",
       "\n",
       "      Last Updated Current Ver   Android Ver  \n",
       "0  January 7, 2018       1.0.0  4.0.3 and up  "
      ]
     },
     "execution_count": 14,
     "metadata": {},
     "output_type": "execute_result"
    }
   ],
   "source": [
    "#Compile, group and name patterns\n",
    "n_to_i = re.compile('(?P<digit>[\\d*,]*)')\n",
    "#Define a function which transform installs in number\n",
    "def digit_to_number (digit):\n",
    "    searched = n_to_i.search(digit)\n",
    "    if pd.isnull(searched):\n",
    "        return None\n",
    "    else:\n",
    "        return int(searched.group('digit').replace(',',''))\n",
    "#Apply function to the column\n",
    "playstore['Installs'] = playstore['Installs'].apply(digit_to_number)\n",
    "playstore.head(1)"
   ]
  },
  {
   "cell_type": "markdown",
   "metadata": {},
   "source": [
    "# **3) Transform “Varies with device” into a missing value**"
   ]
  },
  {
   "cell_type": "code",
   "execution_count": 15,
   "metadata": {},
   "outputs": [],
   "source": [
    "playstore.replace('Varies with device',np.nan,inplace=True)"
   ]
  },
  {
   "cell_type": "markdown",
   "metadata": {},
   "source": [
    "Parameter 'inplace' is set equal to True in order to make the variation on all the views"
   ]
  },
  {
   "cell_type": "markdown",
   "metadata": {},
   "source": [
    "# **4) Convert Current Ver and Android Ver into a dotted number**"
   ]
  },
  {
   "cell_type": "code",
   "execution_count": 16,
   "metadata": {},
   "outputs": [
    {
     "data": {
      "text/plain": [
       "0       1.0.0\n",
       "1       2.0.0\n",
       "2       1.2.4\n",
       "3         NaN\n",
       "4         1.1\n",
       "5         1.0\n",
       "6         1.1\n",
       "7    6.1.61.1\n",
       "8       2.9.2\n",
       "9         2.8\n",
       "Name: Current Ver, dtype: object"
      ]
     },
     "execution_count": 16,
     "metadata": {},
     "output_type": "execute_result"
    }
   ],
   "source": [
    "playstore['Current Ver'].head(10)"
   ]
  },
  {
   "cell_type": "code",
   "execution_count": 17,
   "metadata": {},
   "outputs": [
    {
     "data": {
      "text/plain": [
       "0    4.0.3 and up\n",
       "1    4.0.3 and up\n",
       "2    4.0.3 and up\n",
       "3      4.2 and up\n",
       "4      4.4 and up\n",
       "5      2.3 and up\n",
       "6    4.0.3 and up\n",
       "7      4.2 and up\n",
       "8      3.0 and up\n",
       "9    4.0.3 and up\n",
       "Name: Android Ver, dtype: object"
      ]
     },
     "execution_count": 17,
     "metadata": {},
     "output_type": "execute_result"
    }
   ],
   "source": [
    "playstore['Android Ver'].head(10)"
   ]
  },
  {
   "cell_type": "code",
   "execution_count": 18,
   "metadata": {},
   "outputs": [],
   "source": [
    "to_dot = re.compile('(?P<digit>[\\d*\\.]*)')\n",
    "#Define the function\n",
    "def to_dotted (digit):\n",
    "    found = to_dot.search(digit)\n",
    "    if pd.isnull(found):\n",
    "        return np.nan\n",
    "    else:\n",
    "        return found.group('digit')"
   ]
  },
  {
   "cell_type": "markdown",
   "metadata": {},
   "source": [
    "'Android Ver' and 'Current Ver' are type 'object'. To apply the function, it is necessary to convert them to string:"
   ]
  },
  {
   "cell_type": "code",
   "execution_count": 19,
   "metadata": {},
   "outputs": [],
   "source": [
    "playstore['Current Ver'] = playstore['Current Ver'].astype(str)\n",
    "playstore['Android Ver'] = playstore['Android Ver'].astype(str)"
   ]
  },
  {
   "cell_type": "markdown",
   "metadata": {},
   "source": [
    "Finally applying the function to the columns:"
   ]
  },
  {
   "cell_type": "code",
   "execution_count": 20,
   "metadata": {},
   "outputs": [],
   "source": [
    "playstore['Current Ver'] = playstore['Current Ver'].apply(to_dotted)\n",
    "playstore['Android Ver'] = playstore['Android Ver'].apply(to_dotted)"
   ]
  },
  {
   "cell_type": "code",
   "execution_count": 21,
   "metadata": {},
   "outputs": [
    {
     "data": {
      "text/html": [
       "<div>\n",
       "<style scoped>\n",
       "    .dataframe tbody tr th:only-of-type {\n",
       "        vertical-align: middle;\n",
       "    }\n",
       "\n",
       "    .dataframe tbody tr th {\n",
       "        vertical-align: top;\n",
       "    }\n",
       "\n",
       "    .dataframe thead th {\n",
       "        text-align: right;\n",
       "    }\n",
       "</style>\n",
       "<table border=\"1\" class=\"dataframe\">\n",
       "  <thead>\n",
       "    <tr style=\"text-align: right;\">\n",
       "      <th></th>\n",
       "      <th>App</th>\n",
       "      <th>Category</th>\n",
       "      <th>Rating</th>\n",
       "      <th>Reviews</th>\n",
       "      <th>Size</th>\n",
       "      <th>Installs</th>\n",
       "      <th>Type</th>\n",
       "      <th>Price</th>\n",
       "      <th>Content Rating</th>\n",
       "      <th>Genres</th>\n",
       "      <th>Last Updated</th>\n",
       "      <th>Current Ver</th>\n",
       "      <th>Android Ver</th>\n",
       "    </tr>\n",
       "  </thead>\n",
       "  <tbody>\n",
       "    <tr>\n",
       "      <th>0</th>\n",
       "      <td>Photo Editor &amp; Candy Camera &amp; Grid &amp; ScrapBook</td>\n",
       "      <td>ART_AND_DESIGN</td>\n",
       "      <td>4.1</td>\n",
       "      <td>159</td>\n",
       "      <td>19000000.0</td>\n",
       "      <td>10000</td>\n",
       "      <td>Free</td>\n",
       "      <td>0</td>\n",
       "      <td>Everyone</td>\n",
       "      <td>Art &amp; Design</td>\n",
       "      <td>January 7, 2018</td>\n",
       "      <td>1.0.0</td>\n",
       "      <td>4.0.3</td>\n",
       "    </tr>\n",
       "    <tr>\n",
       "      <th>1</th>\n",
       "      <td>Coloring book moana</td>\n",
       "      <td>ART_AND_DESIGN</td>\n",
       "      <td>3.9</td>\n",
       "      <td>967</td>\n",
       "      <td>14000000.0</td>\n",
       "      <td>500000</td>\n",
       "      <td>Free</td>\n",
       "      <td>0</td>\n",
       "      <td>Everyone</td>\n",
       "      <td>Art &amp; Design;Pretend Play</td>\n",
       "      <td>January 15, 2018</td>\n",
       "      <td>2.0.0</td>\n",
       "      <td>4.0.3</td>\n",
       "    </tr>\n",
       "    <tr>\n",
       "      <th>2</th>\n",
       "      <td>U Launcher Lite – FREE Live Cool Themes, Hide ...</td>\n",
       "      <td>ART_AND_DESIGN</td>\n",
       "      <td>4.7</td>\n",
       "      <td>87510</td>\n",
       "      <td>8700000.0</td>\n",
       "      <td>5000000</td>\n",
       "      <td>Free</td>\n",
       "      <td>0</td>\n",
       "      <td>Everyone</td>\n",
       "      <td>Art &amp; Design</td>\n",
       "      <td>August 1, 2018</td>\n",
       "      <td>1.2.4</td>\n",
       "      <td>4.0.3</td>\n",
       "    </tr>\n",
       "  </tbody>\n",
       "</table>\n",
       "</div>"
      ],
      "text/plain": [
       "                                                 App        Category  Rating  \\\n",
       "0     Photo Editor & Candy Camera & Grid & ScrapBook  ART_AND_DESIGN     4.1   \n",
       "1                                Coloring book moana  ART_AND_DESIGN     3.9   \n",
       "2  U Launcher Lite – FREE Live Cool Themes, Hide ...  ART_AND_DESIGN     4.7   \n",
       "\n",
       "  Reviews        Size  Installs  Type Price Content Rating  \\\n",
       "0     159  19000000.0     10000  Free     0       Everyone   \n",
       "1     967  14000000.0    500000  Free     0       Everyone   \n",
       "2   87510   8700000.0   5000000  Free     0       Everyone   \n",
       "\n",
       "                      Genres      Last Updated Current Ver Android Ver  \n",
       "0               Art & Design   January 7, 2018       1.0.0       4.0.3  \n",
       "1  Art & Design;Pretend Play  January 15, 2018       2.0.0       4.0.3  \n",
       "2               Art & Design    August 1, 2018       1.2.4       4.0.3  "
      ]
     },
     "execution_count": 21,
     "metadata": {},
     "output_type": "execute_result"
    }
   ],
   "source": [
    "playstore.head(3)"
   ]
  },
  {
   "cell_type": "markdown",
   "metadata": {},
   "source": [
    "# **5) Remove the duplicates**"
   ]
  },
  {
   "cell_type": "markdown",
   "metadata": {},
   "source": [
    "First, I drop rows whose values are equal in all the columns. I decide to keep the first duplicate (keep='first') and drop the other ones directly from the databases (inplace = True)"
   ]
  },
  {
   "cell_type": "code",
   "execution_count": 22,
   "metadata": {},
   "outputs": [],
   "source": [
    "playstore.drop_duplicates(keep='first',inplace=True)\n",
    "playstore_users.drop_duplicates(keep='first',inplace=True)"
   ]
  },
  {
   "cell_type": "markdown",
   "metadata": {},
   "source": [
    "Nevertheless, other kind of duplicates are left in the database: ones referred to the same App. It is necessary to drop these ones too. In order to do it, I decide to look at 'Reviews' column and keep, for each App, the row with highest value, because it is likely the newest version. "
   ]
  },
  {
   "cell_type": "markdown",
   "metadata": {},
   "source": [
    "First, I analyze 'Review':"
   ]
  },
  {
   "cell_type": "code",
   "execution_count": 23,
   "metadata": {},
   "outputs": [
    {
     "data": {
      "text/plain": [
       "dtype('O')"
      ]
     },
     "execution_count": 23,
     "metadata": {},
     "output_type": "execute_result"
    }
   ],
   "source": [
    "playstore['Reviews'].dtype"
   ]
  },
  {
   "cell_type": "markdown",
   "metadata": {},
   "source": [
    "It is necessary to convert 'Reviews' into integer:"
   ]
  },
  {
   "cell_type": "code",
   "execution_count": 24,
   "metadata": {},
   "outputs": [],
   "source": [
    "playstore['Reviews']=pd.to_numeric(playstore['Reviews'])"
   ]
  },
  {
   "cell_type": "markdown",
   "metadata": {},
   "source": [
    "Then, sort the database by 'Reviews' - ascending order - so that, keeping the first, I can keep the one with highest value of 'Reviews'"
   ]
  },
  {
   "cell_type": "code",
   "execution_count": 25,
   "metadata": {},
   "outputs": [],
   "source": [
    "playstore = playstore.sort_values('Reviews',ascending=False)"
   ]
  },
  {
   "cell_type": "markdown",
   "metadata": {},
   "source": [
    "Let's see one example of duplicates:"
   ]
  },
  {
   "cell_type": "code",
   "execution_count": 26,
   "metadata": {},
   "outputs": [
    {
     "data": {
      "text/html": [
       "<div>\n",
       "<style scoped>\n",
       "    .dataframe tbody tr th:only-of-type {\n",
       "        vertical-align: middle;\n",
       "    }\n",
       "\n",
       "    .dataframe tbody tr th {\n",
       "        vertical-align: top;\n",
       "    }\n",
       "\n",
       "    .dataframe thead th {\n",
       "        text-align: right;\n",
       "    }\n",
       "</style>\n",
       "<table border=\"1\" class=\"dataframe\">\n",
       "  <thead>\n",
       "    <tr style=\"text-align: right;\">\n",
       "      <th></th>\n",
       "      <th>App</th>\n",
       "      <th>Reviews</th>\n",
       "    </tr>\n",
       "  </thead>\n",
       "  <tbody>\n",
       "    <tr>\n",
       "      <th>2033</th>\n",
       "      <td>Coloring book moana</td>\n",
       "      <td>974</td>\n",
       "    </tr>\n",
       "    <tr>\n",
       "      <th>1</th>\n",
       "      <td>Coloring book moana</td>\n",
       "      <td>967</td>\n",
       "    </tr>\n",
       "  </tbody>\n",
       "</table>\n",
       "</div>"
      ],
      "text/plain": [
       "                      App  Reviews\n",
       "2033  Coloring book moana      974\n",
       "1     Coloring book moana      967"
      ]
     },
     "execution_count": 26,
     "metadata": {},
     "output_type": "execute_result"
    }
   ],
   "source": [
    "playstore[playstore['App']=='Coloring book moana'][['App','Reviews']]"
   ]
  },
  {
   "cell_type": "code",
   "execution_count": 27,
   "metadata": {},
   "outputs": [
    {
     "data": {
      "text/html": [
       "<div>\n",
       "<style scoped>\n",
       "    .dataframe tbody tr th:only-of-type {\n",
       "        vertical-align: middle;\n",
       "    }\n",
       "\n",
       "    .dataframe tbody tr th {\n",
       "        vertical-align: top;\n",
       "    }\n",
       "\n",
       "    .dataframe thead th {\n",
       "        text-align: right;\n",
       "    }\n",
       "</style>\n",
       "<table border=\"1\" class=\"dataframe\">\n",
       "  <thead>\n",
       "    <tr style=\"text-align: right;\">\n",
       "      <th></th>\n",
       "      <th>App</th>\n",
       "      <th>Reviews</th>\n",
       "    </tr>\n",
       "  </thead>\n",
       "  <tbody>\n",
       "    <tr>\n",
       "      <th>2033</th>\n",
       "      <td>Coloring book moana</td>\n",
       "      <td>974</td>\n",
       "    </tr>\n",
       "  </tbody>\n",
       "</table>\n",
       "</div>"
      ],
      "text/plain": [
       "                      App  Reviews\n",
       "2033  Coloring book moana      974"
      ]
     },
     "execution_count": 27,
     "metadata": {},
     "output_type": "execute_result"
    }
   ],
   "source": [
    "playstore.drop_duplicates(subset='App',keep='first',inplace=True)\n",
    "playstore[playstore['App']=='Coloring book moana'][['App','Reviews']]"
   ]
  },
  {
   "cell_type": "markdown",
   "metadata": {},
   "source": [
    "As you can see, it works!"
   ]
  },
  {
   "cell_type": "markdown",
   "metadata": {},
   "source": [
    "# **6) For each category, compute the number of apps**"
   ]
  },
  {
   "cell_type": "code",
   "execution_count": 28,
   "metadata": {},
   "outputs": [
    {
     "data": {
      "text/plain": [
       "Category\n",
       "ART_AND_DESIGN           61\n",
       "AUTO_AND_VEHICLES        85\n",
       "BEAUTY                   53\n",
       "BOOKS_AND_REFERENCE     222\n",
       "BUSINESS                420\n",
       "COMICS                   56\n",
       "COMMUNICATION           315\n",
       "DATING                  170\n",
       "EDUCATION               105\n",
       "ENTERTAINMENT            86\n",
       "EVENTS                   64\n",
       "FAMILY                 1878\n",
       "FINANCE                 345\n",
       "FOOD_AND_DRINK          112\n",
       "GAME                    945\n",
       "HEALTH_AND_FITNESS      288\n",
       "HOUSE_AND_HOME           73\n",
       "LIBRARIES_AND_DEMO       84\n",
       "LIFESTYLE               369\n",
       "MAPS_AND_NAVIGATION     131\n",
       "MEDICAL                 395\n",
       "NEWS_AND_MAGAZINES      254\n",
       "PARENTING                60\n",
       "PERSONALIZATION         376\n",
       "PHOTOGRAPHY             281\n",
       "PRODUCTIVITY            374\n",
       "SHOPPING                202\n",
       "SOCIAL                  239\n",
       "SPORTS                  325\n",
       "TOOLS                   829\n",
       "TRAVEL_AND_LOCAL        219\n",
       "VIDEO_PLAYERS           164\n",
       "WEATHER                  79\n",
       "Name: App, dtype: int64"
      ]
     },
     "execution_count": 28,
     "metadata": {},
     "output_type": "execute_result"
    }
   ],
   "source": [
    "playstore.groupby('Category')['App'].count()"
   ]
  },
  {
   "cell_type": "markdown",
   "metadata": {},
   "source": [
    "# **7) For each category, compute the average rating**"
   ]
  },
  {
   "cell_type": "markdown",
   "metadata": {},
   "source": [
    "Check if 'Rating' is number or string:"
   ]
  },
  {
   "cell_type": "code",
   "execution_count": 29,
   "metadata": {},
   "outputs": [
    {
     "data": {
      "text/plain": [
       "dtype('float64')"
      ]
     },
     "execution_count": 29,
     "metadata": {},
     "output_type": "execute_result"
    }
   ],
   "source": [
    "playstore['Rating'].dtype"
   ]
  },
  {
   "cell_type": "markdown",
   "metadata": {},
   "source": [
    "So we can compute the mean:"
   ]
  },
  {
   "cell_type": "code",
   "execution_count": 30,
   "metadata": {},
   "outputs": [
    {
     "data": {
      "text/plain": [
       "Category\n",
       "ART_AND_DESIGN         4.359322\n",
       "AUTO_AND_VEHICLES      4.190411\n",
       "BEAUTY                 4.278571\n",
       "BOOKS_AND_REFERENCE    4.344970\n",
       "BUSINESS               4.098479\n",
       "COMICS                 4.181481\n",
       "COMMUNICATION          4.121484\n",
       "DATING                 3.980451\n",
       "EDUCATION              4.349038\n",
       "ENTERTAINMENT          4.129070\n",
       "EVENTS                 4.435556\n",
       "FAMILY                 4.184150\n",
       "FINANCE                4.115563\n",
       "FOOD_AND_DRINK         4.171277\n",
       "GAME                   4.244432\n",
       "HEALTH_AND_FITNESS     4.243033\n",
       "HOUSE_AND_HOME         4.140984\n",
       "LIBRARIES_AND_DEMO     4.178125\n",
       "LIFESTYLE              4.093355\n",
       "MAPS_AND_NAVIGATION    4.036441\n",
       "MEDICAL                4.165862\n",
       "NEWS_AND_MAGAZINES     4.121569\n",
       "PARENTING              4.300000\n",
       "PERSONALIZATION        4.332215\n",
       "PHOTOGRAPHY            4.155894\n",
       "PRODUCTIVITY           4.183389\n",
       "SHOPPING               4.230556\n",
       "SOCIAL                 4.247291\n",
       "SPORTS                 4.216154\n",
       "TOOLS                  4.040278\n",
       "TRAVEL_AND_LOCAL       4.069519\n",
       "VIDEO_PLAYERS          4.044966\n",
       "WEATHER                4.243056\n",
       "Name: Rating, dtype: float64"
      ]
     },
     "execution_count": 30,
     "metadata": {},
     "output_type": "execute_result"
    }
   ],
   "source": [
    "playstore.groupby('Category')['Rating'].mean()"
   ]
  },
  {
   "cell_type": "markdown",
   "metadata": {},
   "source": [
    "# **8) Create two dataframes: one for the genres and one bridging apps and genres.** "
   ]
  },
  {
   "cell_type": "markdown",
   "metadata": {},
   "source": [
    "**So that, for instance, the app Pixel Draw - Number Art Coloring Book appears twice in the bridging table, once for Art & Design, once for Creativity**"
   ]
  },
  {
   "cell_type": "markdown",
   "metadata": {},
   "source": [
    "As we notice, genres are often merge toghether,separated by \";\". Thus, it is necessary to split them:"
   ]
  },
  {
   "cell_type": "code",
   "execution_count": 31,
   "metadata": {},
   "outputs": [
    {
     "data": {
      "text/html": [
       "<div>\n",
       "<style scoped>\n",
       "    .dataframe tbody tr th:only-of-type {\n",
       "        vertical-align: middle;\n",
       "    }\n",
       "\n",
       "    .dataframe tbody tr th {\n",
       "        vertical-align: top;\n",
       "    }\n",
       "\n",
       "    .dataframe thead th {\n",
       "        text-align: right;\n",
       "    }\n",
       "</style>\n",
       "<table border=\"1\" class=\"dataframe\">\n",
       "  <thead>\n",
       "    <tr style=\"text-align: right;\">\n",
       "      <th></th>\n",
       "      <th>First_genre</th>\n",
       "      <th>Second_genre</th>\n",
       "    </tr>\n",
       "  </thead>\n",
       "  <tbody>\n",
       "    <tr>\n",
       "      <th>2544</th>\n",
       "      <td>Social</td>\n",
       "      <td>NaN</td>\n",
       "    </tr>\n",
       "    <tr>\n",
       "      <th>336</th>\n",
       "      <td>Communication</td>\n",
       "      <td>NaN</td>\n",
       "    </tr>\n",
       "    <tr>\n",
       "      <th>2604</th>\n",
       "      <td>Social</td>\n",
       "      <td>NaN</td>\n",
       "    </tr>\n",
       "    <tr>\n",
       "      <th>382</th>\n",
       "      <td>Communication</td>\n",
       "      <td>NaN</td>\n",
       "    </tr>\n",
       "    <tr>\n",
       "      <th>1879</th>\n",
       "      <td>Strategy</td>\n",
       "      <td>NaN</td>\n",
       "    </tr>\n",
       "  </tbody>\n",
       "</table>\n",
       "</div>"
      ],
      "text/plain": [
       "        First_genre Second_genre\n",
       "2544         Social          NaN\n",
       "336   Communication          NaN\n",
       "2604         Social          NaN\n",
       "382   Communication          NaN\n",
       "1879       Strategy          NaN"
      ]
     },
     "execution_count": 31,
     "metadata": {},
     "output_type": "execute_result"
    }
   ],
   "source": [
    "playstore['Splitted'] = [genre.split(';') for genre in playstore['Genres']]\n",
    "Genre_splitted = playstore.Splitted.apply(pd.Series)\n",
    "Genre_splitted = Genre_splitted.rename(columns = {0:'First_genre', 1:'Second_genre'})\n",
    "Genre_splitted.head()"
   ]
  },
  {
   "cell_type": "markdown",
   "metadata": {},
   "source": [
    "The function I applied splits the values containing ';' in two parts, and distributes these ones in two different columns. We can understand this by looking at the line num. 27:"
   ]
  },
  {
   "cell_type": "code",
   "execution_count": 32,
   "metadata": {},
   "outputs": [
    {
     "data": {
      "text/html": [
       "<div>\n",
       "<style scoped>\n",
       "    .dataframe tbody tr th:only-of-type {\n",
       "        vertical-align: middle;\n",
       "    }\n",
       "\n",
       "    .dataframe tbody tr th {\n",
       "        vertical-align: top;\n",
       "    }\n",
       "\n",
       "    .dataframe thead th {\n",
       "        text-align: right;\n",
       "    }\n",
       "</style>\n",
       "<table border=\"1\" class=\"dataframe\">\n",
       "  <thead>\n",
       "    <tr style=\"text-align: right;\">\n",
       "      <th></th>\n",
       "      <th>First_genre</th>\n",
       "      <th>Second_genre</th>\n",
       "    </tr>\n",
       "  </thead>\n",
       "  <tbody>\n",
       "    <tr>\n",
       "      <th>2050</th>\n",
       "      <td>Casual</td>\n",
       "      <td>Action &amp; Adventure</td>\n",
       "    </tr>\n",
       "  </tbody>\n",
       "</table>\n",
       "</div>"
      ],
      "text/plain": [
       "     First_genre        Second_genre\n",
       "2050      Casual  Action & Adventure"
      ]
     },
     "execution_count": 32,
     "metadata": {},
     "output_type": "execute_result"
    }
   ],
   "source": [
    "Genre_splitted.iloc[[27]]"
   ]
  },
  {
   "cell_type": "markdown",
   "metadata": {},
   "source": [
    "The bridge table between Apps and Genre is created by using a sequence of function:\n",
    "- merge() merges toghether the dataframe Genre_splitted - composed by columns 'First_genre' and 'Second_genre'- and the column 'App' from the playstore database converted to dataframe (with function to_frame)\n",
    "- melt() identifies 'App' column as index in the new dataframe called 'AppsnGenres' and creates other two columns: one collecting all the values of 'Genre_splitted' in a unique column called 'value' and other one, called 'variable', indicating if the Genre belongs to 'First_genre' or 'Second_genre'\n",
    "- drop('variable') eliminates the column 'variable', because I don't need it\n",
    "- dropna() drops all the rows with null genre, assuming every App has a known genre"
   ]
  },
  {
   "cell_type": "code",
   "execution_count": 33,
   "metadata": {},
   "outputs": [
    {
     "data": {
      "text/html": [
       "<div>\n",
       "<style scoped>\n",
       "    .dataframe tbody tr th:only-of-type {\n",
       "        vertical-align: middle;\n",
       "    }\n",
       "\n",
       "    .dataframe tbody tr th {\n",
       "        vertical-align: top;\n",
       "    }\n",
       "\n",
       "    .dataframe thead th {\n",
       "        text-align: right;\n",
       "    }\n",
       "</style>\n",
       "<table border=\"1\" class=\"dataframe\">\n",
       "  <thead>\n",
       "    <tr style=\"text-align: right;\">\n",
       "      <th></th>\n",
       "      <th>App</th>\n",
       "      <th>Unique Genre</th>\n",
       "    </tr>\n",
       "  </thead>\n",
       "  <tbody>\n",
       "    <tr>\n",
       "      <th>0</th>\n",
       "      <td>Facebook</td>\n",
       "      <td>Social</td>\n",
       "    </tr>\n",
       "    <tr>\n",
       "      <th>1</th>\n",
       "      <td>WhatsApp Messenger</td>\n",
       "      <td>Communication</td>\n",
       "    </tr>\n",
       "    <tr>\n",
       "      <th>2</th>\n",
       "      <td>Instagram</td>\n",
       "      <td>Social</td>\n",
       "    </tr>\n",
       "    <tr>\n",
       "      <th>3</th>\n",
       "      <td>Messenger – Text and Video Chat for Free</td>\n",
       "      <td>Communication</td>\n",
       "    </tr>\n",
       "    <tr>\n",
       "      <th>4</th>\n",
       "      <td>Clash of Clans</td>\n",
       "      <td>Strategy</td>\n",
       "    </tr>\n",
       "  </tbody>\n",
       "</table>\n",
       "</div>"
      ],
      "text/plain": [
       "                                        App   Unique Genre\n",
       "0                                  Facebook         Social\n",
       "1                        WhatsApp Messenger  Communication\n",
       "2                                 Instagram         Social\n",
       "3  Messenger – Text and Video Chat for Free  Communication\n",
       "4                            Clash of Clans       Strategy"
      ]
     },
     "execution_count": 33,
     "metadata": {},
     "output_type": "execute_result"
    }
   ],
   "source": [
    "Apps = playstore['App']\n",
    "AppsnGenres = pd.merge(Genre_splitted, Apps.to_frame(), left_index = True, right_index = True)\\\n",
    ".melt(id_vars = ['App'], value_name = \"Unique Genre\")\\\n",
    ".drop(\"variable\", axis = 1)\\\n",
    ".dropna() #Dropping Apps with null genres, actually Apps with only one unique genre\n",
    "AppsnGenres.head()"
   ]
  },
  {
   "cell_type": "markdown",
   "metadata": {},
   "source": [
    "Checking if 'Pixel Draw - Number Art Coloring Book' appears twice in the bridging table:"
   ]
  },
  {
   "cell_type": "code",
   "execution_count": 34,
   "metadata": {},
   "outputs": [
    {
     "data": {
      "text/html": [
       "<div>\n",
       "<style scoped>\n",
       "    .dataframe tbody tr th:only-of-type {\n",
       "        vertical-align: middle;\n",
       "    }\n",
       "\n",
       "    .dataframe tbody tr th {\n",
       "        vertical-align: top;\n",
       "    }\n",
       "\n",
       "    .dataframe thead th {\n",
       "        text-align: right;\n",
       "    }\n",
       "</style>\n",
       "<table border=\"1\" class=\"dataframe\">\n",
       "  <thead>\n",
       "    <tr style=\"text-align: right;\">\n",
       "      <th></th>\n",
       "      <th>App</th>\n",
       "      <th>Unique Genre</th>\n",
       "    </tr>\n",
       "  </thead>\n",
       "  <tbody>\n",
       "    <tr>\n",
       "      <th>4831</th>\n",
       "      <td>Pixel Draw - Number Art Coloring Book</td>\n",
       "      <td>Art &amp; Design</td>\n",
       "    </tr>\n",
       "    <tr>\n",
       "      <th>14490</th>\n",
       "      <td>Pixel Draw - Number Art Coloring Book</td>\n",
       "      <td>Creativity</td>\n",
       "    </tr>\n",
       "  </tbody>\n",
       "</table>\n",
       "</div>"
      ],
      "text/plain": [
       "                                         App  Unique Genre\n",
       "4831   Pixel Draw - Number Art Coloring Book  Art & Design\n",
       "14490  Pixel Draw - Number Art Coloring Book    Creativity"
      ]
     },
     "execution_count": 34,
     "metadata": {},
     "output_type": "execute_result"
    }
   ],
   "source": [
    "AppsnGenres[AppsnGenres['App'] == 'Pixel Draw - Number Art Coloring Book']"
   ]
  },
  {
   "cell_type": "markdown",
   "metadata": {},
   "source": [
    "In conclusion, the Genres table is easily generated:"
   ]
  },
  {
   "cell_type": "code",
   "execution_count": 35,
   "metadata": {},
   "outputs": [
    {
     "data": {
      "text/html": [
       "<div>\n",
       "<style scoped>\n",
       "    .dataframe tbody tr th:only-of-type {\n",
       "        vertical-align: middle;\n",
       "    }\n",
       "\n",
       "    .dataframe tbody tr th {\n",
       "        vertical-align: top;\n",
       "    }\n",
       "\n",
       "    .dataframe thead th {\n",
       "        text-align: right;\n",
       "    }\n",
       "</style>\n",
       "<table border=\"1\" class=\"dataframe\">\n",
       "  <thead>\n",
       "    <tr style=\"text-align: right;\">\n",
       "      <th></th>\n",
       "      <th>0</th>\n",
       "    </tr>\n",
       "  </thead>\n",
       "  <tbody>\n",
       "    <tr>\n",
       "      <th>0</th>\n",
       "      <td>Social</td>\n",
       "    </tr>\n",
       "    <tr>\n",
       "      <th>1</th>\n",
       "      <td>Communication</td>\n",
       "    </tr>\n",
       "    <tr>\n",
       "      <th>2</th>\n",
       "      <td>Strategy</td>\n",
       "    </tr>\n",
       "    <tr>\n",
       "      <th>3</th>\n",
       "      <td>Tools</td>\n",
       "    </tr>\n",
       "    <tr>\n",
       "      <th>4</th>\n",
       "      <td>Arcade</td>\n",
       "    </tr>\n",
       "  </tbody>\n",
       "</table>\n",
       "</div>"
      ],
      "text/plain": [
       "               0\n",
       "0         Social\n",
       "1  Communication\n",
       "2       Strategy\n",
       "3          Tools\n",
       "4         Arcade"
      ]
     },
     "execution_count": 35,
     "metadata": {},
     "output_type": "execute_result"
    }
   ],
   "source": [
    "Gen_tab = pd.DataFrame(AppsnGenres['Unique Genre'].unique())\n",
    "Gen_tab.head()"
   ]
  },
  {
   "cell_type": "markdown",
   "metadata": {},
   "source": [
    "# **9) For each genre, create a new column of the original dataframe. The new columns must have boolean values (True if the app has a given genre)**"
   ]
  },
  {
   "cell_type": "markdown",
   "metadata": {},
   "source": [
    "I create a function such that the value of dummy variables be true if the App has the given genre: "
   ]
  },
  {
   "cell_type": "code",
   "execution_count": 159,
   "metadata": {},
   "outputs": [],
   "source": [
    "def new_col( df, genres ):\n",
    "    dummies = pd.get_dummies(df[genres].apply(pd.Series).stack()).sum(level=0)\n",
    "    dummies.drop(dummies.columns[0], axis=1, inplace=True) #2\n",
    "    df = pd.concat([df,dummies.astype(bool)], axis=1) #3\n",
    "    df.drop(genres, axis = 1, inplace = True ) #4\n",
    "    return df\n",
    "playstore_dummy = new_col(playstore, 'Splitted')"
   ]
  },
  {
   "cell_type": "markdown",
   "metadata": {},
   "source": [
    "'dummies' is the dataframe containing all dummy variables, created by get_dummies() function from the pandas series of splitted genres. The stack function of pandas allows, in this case, to associate value 1 to the dummy column in correspondence with the line associated to the genre from whom the dummy variable has been generated. sum() counts on the level '1' generated by stack function. Then, I drop first column, because it is useless (2) , concatenate the dataframe and 'dummies' with boolean values instead of numeric (3), drop 'Splitted' dataframe because it's useless (4). "
   ]
  },
  {
   "cell_type": "markdown",
   "metadata": {},
   "source": [
    "An example:"
   ]
  },
  {
   "cell_type": "code",
   "execution_count": 169,
   "metadata": {},
   "outputs": [
    {
     "data": {
      "text/html": [
       "<div>\n",
       "<style scoped>\n",
       "    .dataframe tbody tr th:only-of-type {\n",
       "        vertical-align: middle;\n",
       "    }\n",
       "\n",
       "    .dataframe tbody tr th {\n",
       "        vertical-align: top;\n",
       "    }\n",
       "\n",
       "    .dataframe thead th {\n",
       "        text-align: right;\n",
       "    }\n",
       "</style>\n",
       "<table border=\"1\" class=\"dataframe\">\n",
       "  <thead>\n",
       "    <tr style=\"text-align: right;\">\n",
       "      <th></th>\n",
       "      <th>App</th>\n",
       "      <th>Genres</th>\n",
       "      <th>Art &amp; Design</th>\n",
       "      <th>Creativity</th>\n",
       "      <th>Beauty</th>\n",
       "    </tr>\n",
       "  </thead>\n",
       "  <tbody>\n",
       "    <tr>\n",
       "      <th>4</th>\n",
       "      <td>Pixel Draw - Number Art Coloring Book</td>\n",
       "      <td>Art &amp; Design;Creativity</td>\n",
       "      <td>True</td>\n",
       "      <td>True</td>\n",
       "      <td>False</td>\n",
       "    </tr>\n",
       "  </tbody>\n",
       "</table>\n",
       "</div>"
      ],
      "text/plain": [
       "                                     App                   Genres  \\\n",
       "4  Pixel Draw - Number Art Coloring Book  Art & Design;Creativity   \n",
       "\n",
       "   Art & Design  Creativity  Beauty  \n",
       "4          True        True   False  "
      ]
     },
     "execution_count": 169,
     "metadata": {},
     "output_type": "execute_result"
    }
   ],
   "source": [
    "playstore_dummy[playstore_dummy['App']=='Pixel Draw - Number Art Coloring Book'][['App','Genres','Art & Design','Creativity','Beauty']]"
   ]
  },
  {
   "cell_type": "markdown",
   "metadata": {},
   "source": [
    "# **10) For each genre, compute the average rating. What is the genre with highest average?**"
   ]
  },
  {
   "cell_type": "markdown",
   "metadata": {},
   "source": [
    "In order to accomplish this task, it is logically more correct calculating tha average rating of the splitted genres instead of values from the originale table playstore. For this reason, I merge AppsnGenres with playstore and select only columns we are interested in:"
   ]
  },
  {
   "cell_type": "code",
   "execution_count": 161,
   "metadata": {
    "scrolled": true
   },
   "outputs": [
    {
     "data": {
      "text/html": [
       "<div>\n",
       "<style scoped>\n",
       "    .dataframe tbody tr th:only-of-type {\n",
       "        vertical-align: middle;\n",
       "    }\n",
       "\n",
       "    .dataframe tbody tr th {\n",
       "        vertical-align: top;\n",
       "    }\n",
       "\n",
       "    .dataframe thead th {\n",
       "        text-align: right;\n",
       "    }\n",
       "</style>\n",
       "<table border=\"1\" class=\"dataframe\">\n",
       "  <thead>\n",
       "    <tr style=\"text-align: right;\">\n",
       "      <th></th>\n",
       "      <th>App</th>\n",
       "      <th>Genres</th>\n",
       "      <th>Unique Genre</th>\n",
       "      <th>Rating</th>\n",
       "    </tr>\n",
       "  </thead>\n",
       "  <tbody>\n",
       "    <tr>\n",
       "      <th>0</th>\n",
       "      <td>Facebook</td>\n",
       "      <td>Social</td>\n",
       "      <td>Social</td>\n",
       "      <td>4.1</td>\n",
       "    </tr>\n",
       "    <tr>\n",
       "      <th>1</th>\n",
       "      <td>WhatsApp Messenger</td>\n",
       "      <td>Communication</td>\n",
       "      <td>Communication</td>\n",
       "      <td>4.4</td>\n",
       "    </tr>\n",
       "    <tr>\n",
       "      <th>2</th>\n",
       "      <td>Instagram</td>\n",
       "      <td>Social</td>\n",
       "      <td>Social</td>\n",
       "      <td>4.5</td>\n",
       "    </tr>\n",
       "    <tr>\n",
       "      <th>3</th>\n",
       "      <td>Messenger – Text and Video Chat for Free</td>\n",
       "      <td>Communication</td>\n",
       "      <td>Communication</td>\n",
       "      <td>4.0</td>\n",
       "    </tr>\n",
       "    <tr>\n",
       "      <th>4</th>\n",
       "      <td>Clash of Clans</td>\n",
       "      <td>Strategy</td>\n",
       "      <td>Strategy</td>\n",
       "      <td>4.6</td>\n",
       "    </tr>\n",
       "  </tbody>\n",
       "</table>\n",
       "</div>"
      ],
      "text/plain": [
       "                                        App         Genres   Unique Genre  \\\n",
       "0                                  Facebook         Social         Social   \n",
       "1                        WhatsApp Messenger  Communication  Communication   \n",
       "2                                 Instagram         Social         Social   \n",
       "3  Messenger – Text and Video Chat for Free  Communication  Communication   \n",
       "4                            Clash of Clans       Strategy       Strategy   \n",
       "\n",
       "   Rating  \n",
       "0     4.1  \n",
       "1     4.4  \n",
       "2     4.5  \n",
       "3     4.0  \n",
       "4     4.6  "
      ]
     },
     "execution_count": 161,
     "metadata": {},
     "output_type": "execute_result"
    }
   ],
   "source": [
    "G = AppsnGenres.merge(playstore, on = 'App')\n",
    "G = G[['App','Genres','Unique Genre','Rating']]\n",
    "G.head()"
   ]
  },
  {
   "cell_type": "code",
   "execution_count": 162,
   "metadata": {},
   "outputs": [
    {
     "data": {
      "text/html": [
       "<div>\n",
       "<style scoped>\n",
       "    .dataframe tbody tr th:only-of-type {\n",
       "        vertical-align: middle;\n",
       "    }\n",
       "\n",
       "    .dataframe tbody tr th {\n",
       "        vertical-align: top;\n",
       "    }\n",
       "\n",
       "    .dataframe thead th {\n",
       "        text-align: right;\n",
       "    }\n",
       "</style>\n",
       "<table border=\"1\" class=\"dataframe\">\n",
       "  <thead>\n",
       "    <tr style=\"text-align: right;\">\n",
       "      <th></th>\n",
       "      <th>Rating</th>\n",
       "    </tr>\n",
       "    <tr>\n",
       "      <th>Unique Genre</th>\n",
       "      <th></th>\n",
       "    </tr>\n",
       "  </thead>\n",
       "  <tbody>\n",
       "    <tr>\n",
       "      <th>Action</th>\n",
       "      <td>4.247697</td>\n",
       "    </tr>\n",
       "    <tr>\n",
       "      <th>Action &amp; Adventure</th>\n",
       "      <td>4.288542</td>\n",
       "    </tr>\n",
       "    <tr>\n",
       "      <th>Adventure</th>\n",
       "      <td>4.191026</td>\n",
       "    </tr>\n",
       "    <tr>\n",
       "      <th>Arcade</th>\n",
       "      <td>4.277838</td>\n",
       "    </tr>\n",
       "    <tr>\n",
       "      <th>Art &amp; Design</th>\n",
       "      <td>4.350000</td>\n",
       "    </tr>\n",
       "  </tbody>\n",
       "</table>\n",
       "</div>"
      ],
      "text/plain": [
       "                      Rating\n",
       "Unique Genre                \n",
       "Action              4.247697\n",
       "Action & Adventure  4.288542\n",
       "Adventure           4.191026\n",
       "Arcade              4.277838\n",
       "Art & Design        4.350000"
      ]
     },
     "execution_count": 162,
     "metadata": {},
     "output_type": "execute_result"
    }
   ],
   "source": [
    "G.groupby('Unique Genre')[['Rating']].mean().head()"
   ]
  },
  {
   "cell_type": "code",
   "execution_count": 163,
   "metadata": {},
   "outputs": [
    {
     "name": "stdout",
     "output_type": "stream",
     "text": [
      "The genre with highest average is Events : 4.435555555555556\n"
     ]
    }
   ],
   "source": [
    "print(\"The genre with highest average is\",G.groupby('Unique Genre')['Rating'].mean().idxmax(),\":\",G.groupby('Unique Genre')['Rating'].mean().max())"
   ]
  },
  {
   "cell_type": "markdown",
   "metadata": {},
   "source": [
    "# **11) For each app, compute the approximate income, obtain as a product of number of installs and price.**"
   ]
  },
  {
   "cell_type": "code",
   "execution_count": 164,
   "metadata": {},
   "outputs": [
    {
     "data": {
      "text/html": [
       "<div>\n",
       "<style scoped>\n",
       "    .dataframe tbody tr th:only-of-type {\n",
       "        vertical-align: middle;\n",
       "    }\n",
       "\n",
       "    .dataframe tbody tr th {\n",
       "        vertical-align: top;\n",
       "    }\n",
       "\n",
       "    .dataframe thead th {\n",
       "        text-align: right;\n",
       "    }\n",
       "</style>\n",
       "<table border=\"1\" class=\"dataframe\">\n",
       "  <thead>\n",
       "    <tr style=\"text-align: right;\">\n",
       "      <th></th>\n",
       "      <th>App</th>\n",
       "      <th>Installs</th>\n",
       "      <th>Price</th>\n",
       "    </tr>\n",
       "  </thead>\n",
       "  <tbody>\n",
       "    <tr>\n",
       "      <th>2544</th>\n",
       "      <td>Facebook</td>\n",
       "      <td>1000000000</td>\n",
       "      <td>0</td>\n",
       "    </tr>\n",
       "    <tr>\n",
       "      <th>336</th>\n",
       "      <td>WhatsApp Messenger</td>\n",
       "      <td>1000000000</td>\n",
       "      <td>0</td>\n",
       "    </tr>\n",
       "    <tr>\n",
       "      <th>2604</th>\n",
       "      <td>Instagram</td>\n",
       "      <td>1000000000</td>\n",
       "      <td>0</td>\n",
       "    </tr>\n",
       "  </tbody>\n",
       "</table>\n",
       "</div>"
      ],
      "text/plain": [
       "                     App    Installs Price\n",
       "2544            Facebook  1000000000     0\n",
       "336   WhatsApp Messenger  1000000000     0\n",
       "2604           Instagram  1000000000     0"
      ]
     },
     "execution_count": 164,
     "metadata": {},
     "output_type": "execute_result"
    }
   ],
   "source": [
    "playstore[['App','Installs','Price']].head(3)"
   ]
  },
  {
   "cell_type": "markdown",
   "metadata": {},
   "source": [
    "Have a look on 'Price':"
   ]
  },
  {
   "cell_type": "code",
   "execution_count": 165,
   "metadata": {},
   "outputs": [
    {
     "data": {
      "text/plain": [
       "{'$0.99',\n",
       " '$1.00',\n",
       " '$1.04',\n",
       " '$1.20',\n",
       " '$1.26',\n",
       " '$1.29',\n",
       " '$1.49',\n",
       " '$1.50',\n",
       " '$1.59',\n",
       " '$1.61',\n",
       " '$1.70',\n",
       " '$1.75',\n",
       " '$1.76',\n",
       " '$1.96',\n",
       " '$1.97',\n",
       " '$1.99',\n",
       " '$10.00',\n",
       " '$10.99',\n",
       " '$109.99',\n",
       " '$11.99',\n",
       " '$12.99',\n",
       " '$13.99',\n",
       " '$14.00',\n",
       " '$14.99',\n",
       " '$15.46',\n",
       " '$15.99',\n",
       " '$154.99',\n",
       " '$16.99',\n",
       " '$17.99',\n",
       " '$18.99',\n",
       " '$19.40',\n",
       " '$19.90',\n",
       " '$19.99',\n",
       " '$2.00',\n",
       " '$2.49',\n",
       " '$2.50',\n",
       " '$2.56',\n",
       " '$2.59',\n",
       " '$2.60',\n",
       " '$2.90',\n",
       " '$2.95',\n",
       " '$2.99',\n",
       " '$200.00',\n",
       " '$24.99',\n",
       " '$25.99',\n",
       " '$28.99',\n",
       " '$29.99',\n",
       " '$299.99',\n",
       " '$3.02',\n",
       " '$3.04',\n",
       " '$3.08',\n",
       " '$3.28',\n",
       " '$3.49',\n",
       " '$3.61',\n",
       " '$3.88',\n",
       " '$3.90',\n",
       " '$3.95',\n",
       " '$3.99',\n",
       " '$30.99',\n",
       " '$33.99',\n",
       " '$37.99',\n",
       " '$379.99',\n",
       " '$389.99',\n",
       " '$39.99',\n",
       " '$394.99',\n",
       " '$399.99',\n",
       " '$4.29',\n",
       " '$4.49',\n",
       " '$4.59',\n",
       " '$4.60',\n",
       " '$4.77',\n",
       " '$4.80',\n",
       " '$4.84',\n",
       " '$4.85',\n",
       " '$4.99',\n",
       " '$400.00',\n",
       " '$46.99',\n",
       " '$5.00',\n",
       " '$5.49',\n",
       " '$5.99',\n",
       " '$6.49',\n",
       " '$6.99',\n",
       " '$7.49',\n",
       " '$7.99',\n",
       " '$74.99',\n",
       " '$79.99',\n",
       " '$8.49',\n",
       " '$8.99',\n",
       " '$89.99',\n",
       " '$9.00',\n",
       " '$9.99',\n",
       " '0'}"
      ]
     },
     "execution_count": 165,
     "metadata": {},
     "output_type": "execute_result"
    }
   ],
   "source": [
    "set(playstore['Price'])"
   ]
  },
  {
   "cell_type": "markdown",
   "metadata": {},
   "source": [
    "It is necessary to convert 'Price' to number:"
   ]
  },
  {
   "cell_type": "code",
   "execution_count": 166,
   "metadata": {},
   "outputs": [],
   "source": [
    "price_to_num = re.compile('\\D*(?P<price>\\d+\\.{0,1}\\d*)')\n",
    "def to_float (price):\n",
    "    money = price_to_num.search(price)\n",
    "    if money:\n",
    "        return float(money.group('price'))\n",
    "    else:\n",
    "        return np.nan\n",
    "playstore['Price'] = playstore.Price.apply(to_float)"
   ]
  },
  {
   "cell_type": "code",
   "execution_count": 167,
   "metadata": {
    "scrolled": false
   },
   "outputs": [
    {
     "data": {
      "text/plain": [
       "{0.0,\n",
       " 0.99,\n",
       " 1.0,\n",
       " 1.04,\n",
       " 1.2,\n",
       " 1.26,\n",
       " 1.29,\n",
       " 1.49,\n",
       " 1.5,\n",
       " 1.59,\n",
       " 1.61,\n",
       " 1.7,\n",
       " 1.75,\n",
       " 1.76,\n",
       " 1.96,\n",
       " 1.97,\n",
       " 1.99,\n",
       " 2.0,\n",
       " 2.49,\n",
       " 2.5,\n",
       " 2.56,\n",
       " 2.59,\n",
       " 2.6,\n",
       " 2.9,\n",
       " 2.95,\n",
       " 2.99,\n",
       " 3.02,\n",
       " 3.04,\n",
       " 3.08,\n",
       " 3.28,\n",
       " 3.49,\n",
       " 3.61,\n",
       " 3.88,\n",
       " 3.9,\n",
       " 3.95,\n",
       " 3.99,\n",
       " 4.29,\n",
       " 4.49,\n",
       " 4.59,\n",
       " 4.6,\n",
       " 4.77,\n",
       " 4.8,\n",
       " 4.84,\n",
       " 4.85,\n",
       " 4.99,\n",
       " 5.0,\n",
       " 5.49,\n",
       " 5.99,\n",
       " 6.49,\n",
       " 6.99,\n",
       " 7.49,\n",
       " 7.99,\n",
       " 8.49,\n",
       " 8.99,\n",
       " 9.0,\n",
       " 9.99,\n",
       " 10.0,\n",
       " 10.99,\n",
       " 11.99,\n",
       " 12.99,\n",
       " 13.99,\n",
       " 14.0,\n",
       " 14.99,\n",
       " 15.46,\n",
       " 15.99,\n",
       " 16.99,\n",
       " 17.99,\n",
       " 18.99,\n",
       " 19.4,\n",
       " 19.9,\n",
       " 19.99,\n",
       " 24.99,\n",
       " 25.99,\n",
       " 28.99,\n",
       " 29.99,\n",
       " 30.99,\n",
       " 33.99,\n",
       " 37.99,\n",
       " 39.99,\n",
       " 46.99,\n",
       " 74.99,\n",
       " 79.99,\n",
       " 89.99,\n",
       " 109.99,\n",
       " 154.99,\n",
       " 200.0,\n",
       " 299.99,\n",
       " 379.99,\n",
       " 389.99,\n",
       " 394.99,\n",
       " 399.99,\n",
       " 400.0}"
      ]
     },
     "execution_count": 167,
     "metadata": {},
     "output_type": "execute_result"
    }
   ],
   "source": [
    "set(playstore['Price'])"
   ]
  },
  {
   "cell_type": "markdown",
   "metadata": {},
   "source": [
    "Create a new column 'Income' and compute the aggregated value for each App, sorted by total income:"
   ]
  },
  {
   "cell_type": "code",
   "execution_count": 168,
   "metadata": {
    "scrolled": true
   },
   "outputs": [
    {
     "data": {
      "text/html": [
       "<div>\n",
       "<style scoped>\n",
       "    .dataframe tbody tr th:only-of-type {\n",
       "        vertical-align: middle;\n",
       "    }\n",
       "\n",
       "    .dataframe tbody tr th {\n",
       "        vertical-align: top;\n",
       "    }\n",
       "\n",
       "    .dataframe thead th {\n",
       "        text-align: right;\n",
       "    }\n",
       "</style>\n",
       "<table border=\"1\" class=\"dataframe\">\n",
       "  <thead>\n",
       "    <tr style=\"text-align: right;\">\n",
       "      <th></th>\n",
       "      <th>Income</th>\n",
       "    </tr>\n",
       "    <tr>\n",
       "      <th>App</th>\n",
       "      <th></th>\n",
       "    </tr>\n",
       "  </thead>\n",
       "  <tbody>\n",
       "    <tr>\n",
       "      <th>Minecraft</th>\n",
       "      <td>69900000.0</td>\n",
       "    </tr>\n",
       "    <tr>\n",
       "      <th>I am rich</th>\n",
       "      <td>39999000.0</td>\n",
       "    </tr>\n",
       "    <tr>\n",
       "      <th>I Am Rich Premium</th>\n",
       "      <td>19999500.0</td>\n",
       "    </tr>\n",
       "    <tr>\n",
       "      <th>Hitman Sniper</th>\n",
       "      <td>9900000.0</td>\n",
       "    </tr>\n",
       "    <tr>\n",
       "      <th>Grand Theft Auto: San Andreas</th>\n",
       "      <td>6990000.0</td>\n",
       "    </tr>\n",
       "    <tr>\n",
       "      <th>Sleep as Android Unlock</th>\n",
       "      <td>5990000.0</td>\n",
       "    </tr>\n",
       "    <tr>\n",
       "      <th>Facetune - For Free</th>\n",
       "      <td>5990000.0</td>\n",
       "    </tr>\n",
       "    <tr>\n",
       "      <th>DraStic DS Emulator</th>\n",
       "      <td>4990000.0</td>\n",
       "    </tr>\n",
       "    <tr>\n",
       "      <th>I'm Rich - Trump Edition</th>\n",
       "      <td>4000000.0</td>\n",
       "    </tr>\n",
       "    <tr>\n",
       "      <th>💎 I'm rich</th>\n",
       "      <td>3999900.0</td>\n",
       "    </tr>\n",
       "    <tr>\n",
       "      <th>I am Rich Plus</th>\n",
       "      <td>3999900.0</td>\n",
       "    </tr>\n",
       "    <tr>\n",
       "      <th>I Am Rich</th>\n",
       "      <td>3899900.0</td>\n",
       "    </tr>\n",
       "    <tr>\n",
       "      <th>I am rich VIP</th>\n",
       "      <td>2999900.0</td>\n",
       "    </tr>\n",
       "    <tr>\n",
       "      <th>Weather Live</th>\n",
       "      <td>2995000.0</td>\n",
       "    </tr>\n",
       "    <tr>\n",
       "      <th>Threema</th>\n",
       "      <td>2990000.0</td>\n",
       "    </tr>\n",
       "    <tr>\n",
       "      <th>Tasker</th>\n",
       "      <td>2990000.0</td>\n",
       "    </tr>\n",
       "    <tr>\n",
       "      <th>Five Nights at Freddy's</th>\n",
       "      <td>2990000.0</td>\n",
       "    </tr>\n",
       "    <tr>\n",
       "      <th>Bloons TD 5</th>\n",
       "      <td>2990000.0</td>\n",
       "    </tr>\n",
       "    <tr>\n",
       "      <th>Card Wars - Adventure Time</th>\n",
       "      <td>2990000.0</td>\n",
       "    </tr>\n",
       "    <tr>\n",
       "      <th>Human Anatomy Atlas 2018: Complete 3D Human Body</th>\n",
       "      <td>2499000.0</td>\n",
       "    </tr>\n",
       "    <tr>\n",
       "      <th>NBA JAM by EA SPORTS™</th>\n",
       "      <td>2495000.0</td>\n",
       "    </tr>\n",
       "    <tr>\n",
       "      <th>Beautiful Widgets Pro</th>\n",
       "      <td>2490000.0</td>\n",
       "    </tr>\n",
       "    <tr>\n",
       "      <th>I am Rich</th>\n",
       "      <td>1999950.0</td>\n",
       "    </tr>\n",
       "    <tr>\n",
       "      <th>I am rich(premium)</th>\n",
       "      <td>1999950.0</td>\n",
       "    </tr>\n",
       "    <tr>\n",
       "      <th>I Am Rich Pro</th>\n",
       "      <td>1999950.0</td>\n",
       "    </tr>\n",
       "    <tr>\n",
       "      <th>Toca Life: City</th>\n",
       "      <td>1995000.0</td>\n",
       "    </tr>\n",
       "    <tr>\n",
       "      <th>Where's My Water?</th>\n",
       "      <td>1990000.0</td>\n",
       "    </tr>\n",
       "    <tr>\n",
       "      <th>True Skate</th>\n",
       "      <td>1990000.0</td>\n",
       "    </tr>\n",
       "    <tr>\n",
       "      <th>Golfshot Plus: Golf GPS</th>\n",
       "      <td>1499500.0</td>\n",
       "    </tr>\n",
       "    <tr>\n",
       "      <th>DRAGON QUEST VI</th>\n",
       "      <td>1499000.0</td>\n",
       "    </tr>\n",
       "    <tr>\n",
       "      <th>...</th>\n",
       "      <td>...</td>\n",
       "    </tr>\n",
       "    <tr>\n",
       "      <th>Modern Counter Terrorist FPS Shoot</th>\n",
       "      <td>0.0</td>\n",
       "    </tr>\n",
       "    <tr>\n",
       "      <th>Modern Counter Terror Attack – Shooting Game</th>\n",
       "      <td>0.0</td>\n",
       "    </tr>\n",
       "    <tr>\n",
       "      <th>Modern Counter Global Strike 3D V2</th>\n",
       "      <td>0.0</td>\n",
       "    </tr>\n",
       "    <tr>\n",
       "      <th>Modern Counter 3: FPS Multiplayers battlegro 3</th>\n",
       "      <td>0.0</td>\n",
       "    </tr>\n",
       "    <tr>\n",
       "      <th>Mom Doctor ER Emergency Family Game</th>\n",
       "      <td>0.0</td>\n",
       "    </tr>\n",
       "    <tr>\n",
       "      <th>Modern Combat 5: eSports FPS</th>\n",
       "      <td>0.0</td>\n",
       "    </tr>\n",
       "    <tr>\n",
       "      <th>Modern Action Commando 3D</th>\n",
       "      <td>0.0</td>\n",
       "    </tr>\n",
       "    <tr>\n",
       "      <th>Modcloth – Unique Indie Women's Fashion &amp; Style</th>\n",
       "      <td>0.0</td>\n",
       "    </tr>\n",
       "    <tr>\n",
       "      <th>Mod GTA V for MCPE</th>\n",
       "      <td>0.0</td>\n",
       "    </tr>\n",
       "    <tr>\n",
       "      <th>Moco - Chat, Meet People</th>\n",
       "      <td>0.0</td>\n",
       "    </tr>\n",
       "    <tr>\n",
       "      <th>Mobizen Screen Recorder for SAMSUNG</th>\n",
       "      <td>0.0</td>\n",
       "    </tr>\n",
       "    <tr>\n",
       "      <th>Modlitební knížka CZ</th>\n",
       "      <td>0.0</td>\n",
       "    </tr>\n",
       "    <tr>\n",
       "      <th>Moment</th>\n",
       "      <td>0.0</td>\n",
       "    </tr>\n",
       "    <tr>\n",
       "      <th>Montessori Preschool</th>\n",
       "      <td>0.0</td>\n",
       "    </tr>\n",
       "    <tr>\n",
       "      <th>Monster Fishing 2018</th>\n",
       "      <td>0.0</td>\n",
       "    </tr>\n",
       "    <tr>\n",
       "      <th>Monster Truck Stunt 3D 2019</th>\n",
       "      <td>0.0</td>\n",
       "    </tr>\n",
       "    <tr>\n",
       "      <th>Monster Truck Driver &amp; Racing</th>\n",
       "      <td>0.0</td>\n",
       "    </tr>\n",
       "    <tr>\n",
       "      <th>Monster Ride Pro</th>\n",
       "      <td>0.0</td>\n",
       "    </tr>\n",
       "    <tr>\n",
       "      <th>Monster Park AR - Jurassic Dinosaurs in Real World</th>\n",
       "      <td>0.0</td>\n",
       "    </tr>\n",
       "    <tr>\n",
       "      <th>Monster High™ Minis Mania</th>\n",
       "      <td>0.0</td>\n",
       "    </tr>\n",
       "    <tr>\n",
       "      <th>Monster High™</th>\n",
       "      <td>0.0</td>\n",
       "    </tr>\n",
       "    <tr>\n",
       "      <th>Monitor Your Weight</th>\n",
       "      <td>0.0</td>\n",
       "    </tr>\n",
       "    <tr>\n",
       "      <th>MomentCam Cartoons &amp; Stickers</th>\n",
       "      <td>0.0</td>\n",
       "    </tr>\n",
       "    <tr>\n",
       "      <th>Monica Toy TV</th>\n",
       "      <td>0.0</td>\n",
       "    </tr>\n",
       "    <tr>\n",
       "      <th>Moneycontrol – Stocks, Sensex, Mutual Funds, IPO</th>\n",
       "      <td>0.0</td>\n",
       "    </tr>\n",
       "    <tr>\n",
       "      <th>Money Manager Expense &amp; Budget</th>\n",
       "      <td>0.0</td>\n",
       "    </tr>\n",
       "    <tr>\n",
       "      <th>Money Manager Ex for Android</th>\n",
       "      <td>0.0</td>\n",
       "    </tr>\n",
       "    <tr>\n",
       "      <th>Money Lover: Expense Tracker, Budget Planner</th>\n",
       "      <td>0.0</td>\n",
       "    </tr>\n",
       "    <tr>\n",
       "      <th>Monefy - Money Manager</th>\n",
       "      <td>0.0</td>\n",
       "    </tr>\n",
       "    <tr>\n",
       "      <th>\"i DT\" Fútbol. Todos Somos Técnicos.</th>\n",
       "      <td>0.0</td>\n",
       "    </tr>\n",
       "  </tbody>\n",
       "</table>\n",
       "<p>9659 rows × 1 columns</p>\n",
       "</div>"
      ],
      "text/plain": [
       "                                                        Income\n",
       "App                                                           \n",
       "Minecraft                                           69900000.0\n",
       "I am rich                                           39999000.0\n",
       "I Am Rich Premium                                   19999500.0\n",
       "Hitman Sniper                                        9900000.0\n",
       "Grand Theft Auto: San Andreas                        6990000.0\n",
       "Sleep as Android Unlock                              5990000.0\n",
       "Facetune - For Free                                  5990000.0\n",
       "DraStic DS Emulator                                  4990000.0\n",
       "I'm Rich - Trump Edition                             4000000.0\n",
       "💎 I'm rich                                           3999900.0\n",
       "I am Rich Plus                                       3999900.0\n",
       "I Am Rich                                            3899900.0\n",
       "I am rich VIP                                        2999900.0\n",
       "Weather Live                                         2995000.0\n",
       "Threema                                              2990000.0\n",
       "Tasker                                               2990000.0\n",
       "Five Nights at Freddy's                              2990000.0\n",
       "Bloons TD 5                                          2990000.0\n",
       "Card Wars - Adventure Time                           2990000.0\n",
       "Human Anatomy Atlas 2018: Complete 3D Human Body     2499000.0\n",
       "NBA JAM by EA SPORTS™                                2495000.0\n",
       "Beautiful Widgets Pro                                2490000.0\n",
       "I am Rich                                            1999950.0\n",
       "I am rich(premium)                                   1999950.0\n",
       "I Am Rich Pro                                        1999950.0\n",
       "Toca Life: City                                      1995000.0\n",
       "Where's My Water?                                    1990000.0\n",
       "True Skate                                           1990000.0\n",
       "Golfshot Plus: Golf GPS                              1499500.0\n",
       "DRAGON QUEST VI                                      1499000.0\n",
       "...                                                        ...\n",
       "Modern Counter Terrorist FPS Shoot                         0.0\n",
       "Modern Counter Terror Attack – Shooting Game               0.0\n",
       "Modern Counter Global Strike 3D V2                         0.0\n",
       "Modern Counter 3: FPS Multiplayers battlegro 3             0.0\n",
       "Mom Doctor ER Emergency Family Game                        0.0\n",
       "Modern Combat 5: eSports FPS                               0.0\n",
       "Modern Action Commando 3D                                  0.0\n",
       "Modcloth – Unique Indie Women's Fashion & Style            0.0\n",
       "Mod GTA V for MCPE                                         0.0\n",
       "Moco - Chat, Meet People                                   0.0\n",
       "Mobizen Screen Recorder for SAMSUNG                        0.0\n",
       "Modlitební knížka CZ                                       0.0\n",
       "Moment                                                     0.0\n",
       "Montessori Preschool                                       0.0\n",
       "Monster Fishing 2018                                       0.0\n",
       "Monster Truck Stunt 3D 2019                                0.0\n",
       "Monster Truck Driver & Racing                              0.0\n",
       "Monster Ride Pro                                           0.0\n",
       "Monster Park AR - Jurassic Dinosaurs in Real World         0.0\n",
       "Monster High™ Minis Mania                                  0.0\n",
       "Monster High™                                              0.0\n",
       "Monitor Your Weight                                        0.0\n",
       "MomentCam Cartoons & Stickers                              0.0\n",
       "Monica Toy TV                                              0.0\n",
       "Moneycontrol – Stocks, Sensex, Mutual Funds, IPO           0.0\n",
       "Money Manager Expense & Budget                             0.0\n",
       "Money Manager Ex for Android                               0.0\n",
       "Money Lover: Expense Tracker, Budget Planner               0.0\n",
       "Monefy - Money Manager                                     0.0\n",
       "\"i DT\" Fútbol. Todos Somos Técnicos.                       0.0\n",
       "\n",
       "[9659 rows x 1 columns]"
      ]
     },
     "execution_count": 168,
     "metadata": {},
     "output_type": "execute_result"
    }
   ],
   "source": [
    "playstore['Income']=playstore['Installs']*playstore['Price']\n",
    "pd.DataFrame(playstore.groupby('App')['Income'].sum().sort_values(ascending=False))"
   ]
  },
  {
   "cell_type": "markdown",
   "metadata": {},
   "source": [
    "# **12) For each app, compute its minimum and maximum Sentiment_polarity**"
   ]
  },
  {
   "cell_type": "markdown",
   "metadata": {},
   "source": [
    "First, we have to check if 'Sentiment_Polarity' is composed by numbers or strings"
   ]
  },
  {
   "cell_type": "code",
   "execution_count": 42,
   "metadata": {
    "scrolled": true
   },
   "outputs": [
    {
     "data": {
      "text/plain": [
       "dtype('float64')"
      ]
     },
     "execution_count": 42,
     "metadata": {},
     "output_type": "execute_result"
    }
   ],
   "source": [
    "playstore_users['Sentiment_Polarity'].dtype"
   ]
  },
  {
   "cell_type": "markdown",
   "metadata": {},
   "source": [
    "So we can computer min and max."
   ]
  },
  {
   "cell_type": "markdown",
   "metadata": {},
   "source": [
    "I create two new columns and print them toghether:"
   ]
  },
  {
   "cell_type": "code",
   "execution_count": 43,
   "metadata": {
    "scrolled": true
   },
   "outputs": [
    {
     "data": {
      "text/html": [
       "<div>\n",
       "<style scoped>\n",
       "    .dataframe tbody tr th:only-of-type {\n",
       "        vertical-align: middle;\n",
       "    }\n",
       "\n",
       "    .dataframe tbody tr th {\n",
       "        vertical-align: top;\n",
       "    }\n",
       "\n",
       "    .dataframe thead th {\n",
       "        text-align: right;\n",
       "    }\n",
       "</style>\n",
       "<table border=\"1\" class=\"dataframe\">\n",
       "  <thead>\n",
       "    <tr style=\"text-align: right;\">\n",
       "      <th></th>\n",
       "      <th>Sentiment_Polarity_min</th>\n",
       "      <th>Sentiment_Polarity_max</th>\n",
       "    </tr>\n",
       "    <tr>\n",
       "      <th>App</th>\n",
       "      <th></th>\n",
       "      <th></th>\n",
       "    </tr>\n",
       "  </thead>\n",
       "  <tbody>\n",
       "    <tr>\n",
       "      <th>10 Best Foods for You</th>\n",
       "      <td>-0.800000</td>\n",
       "      <td>1.000000</td>\n",
       "    </tr>\n",
       "    <tr>\n",
       "      <th>104 找工作 - 找工作 找打工 找兼職 履歷健檢 履歷診療室</th>\n",
       "      <td>-0.112500</td>\n",
       "      <td>0.910000</td>\n",
       "    </tr>\n",
       "    <tr>\n",
       "      <th>11st</th>\n",
       "      <td>-1.000000</td>\n",
       "      <td>1.000000</td>\n",
       "    </tr>\n",
       "    <tr>\n",
       "      <th>1800 Contacts - Lens Store</th>\n",
       "      <td>-0.300000</td>\n",
       "      <td>0.838542</td>\n",
       "    </tr>\n",
       "    <tr>\n",
       "      <th>1LINE – One Line with One Touch</th>\n",
       "      <td>-0.825000</td>\n",
       "      <td>1.000000</td>\n",
       "    </tr>\n",
       "    <tr>\n",
       "      <th>2018Emoji Keyboard 😂 Emoticons Lite -sticker&amp;gif</th>\n",
       "      <td>-0.800000</td>\n",
       "      <td>1.000000</td>\n",
       "    </tr>\n",
       "    <tr>\n",
       "      <th>21-Day Meditation Experience</th>\n",
       "      <td>-0.265625</td>\n",
       "      <td>0.587500</td>\n",
       "    </tr>\n",
       "    <tr>\n",
       "      <th>2Date Dating App, Love and matching</th>\n",
       "      <td>-0.645833</td>\n",
       "      <td>1.000000</td>\n",
       "    </tr>\n",
       "    <tr>\n",
       "      <th>2GIS: directory &amp; navigator</th>\n",
       "      <td>-0.375000</td>\n",
       "      <td>1.000000</td>\n",
       "    </tr>\n",
       "    <tr>\n",
       "      <th>2RedBeans</th>\n",
       "      <td>-0.800000</td>\n",
       "      <td>1.000000</td>\n",
       "    </tr>\n",
       "    <tr>\n",
       "      <th>2ndLine - Second Phone Number</th>\n",
       "      <td>-0.781250</td>\n",
       "      <td>1.000000</td>\n",
       "    </tr>\n",
       "    <tr>\n",
       "      <th>30 Day Fitness Challenge - Workout at Home</th>\n",
       "      <td>-0.500000</td>\n",
       "      <td>0.900000</td>\n",
       "    </tr>\n",
       "    <tr>\n",
       "      <th>365Scores - Live Scores</th>\n",
       "      <td>0.000000</td>\n",
       "      <td>1.000000</td>\n",
       "    </tr>\n",
       "    <tr>\n",
       "      <th>3D Blue Glass Water Keyboard Theme</th>\n",
       "      <td>NaN</td>\n",
       "      <td>NaN</td>\n",
       "    </tr>\n",
       "    <tr>\n",
       "      <th>3D Color Pixel by Number - Sandbox Art Coloring</th>\n",
       "      <td>NaN</td>\n",
       "      <td>NaN</td>\n",
       "    </tr>\n",
       "    <tr>\n",
       "      <th>3D Live Neon Weed Launcher</th>\n",
       "      <td>0.136364</td>\n",
       "      <td>1.000000</td>\n",
       "    </tr>\n",
       "    <tr>\n",
       "      <th>4 in a Row</th>\n",
       "      <td>-0.800000</td>\n",
       "      <td>1.000000</td>\n",
       "    </tr>\n",
       "    <tr>\n",
       "      <th>4K Wallpapers and Ultra HD Backgrounds</th>\n",
       "      <td>-0.700000</td>\n",
       "      <td>0.750000</td>\n",
       "    </tr>\n",
       "    <tr>\n",
       "      <th>591房屋交易-租屋、中古屋、新建案、實價登錄、別墅透天、公寓套房、捷運、買房賣房行情、房價房貸查詢</th>\n",
       "      <td>-0.300000</td>\n",
       "      <td>0.700000</td>\n",
       "    </tr>\n",
       "    <tr>\n",
       "      <th>591房屋交易-香港</th>\n",
       "      <td>-0.077083</td>\n",
       "      <td>0.700000</td>\n",
       "    </tr>\n",
       "    <tr>\n",
       "      <th>7 Cups: Anxiety &amp; Stress Chat</th>\n",
       "      <td>-0.172222</td>\n",
       "      <td>0.812500</td>\n",
       "    </tr>\n",
       "    <tr>\n",
       "      <th>7 Day Food Journal Challenge</th>\n",
       "      <td>0.070000</td>\n",
       "      <td>0.343333</td>\n",
       "    </tr>\n",
       "    <tr>\n",
       "      <th>7 Minute Workout</th>\n",
       "      <td>-0.291667</td>\n",
       "      <td>1.000000</td>\n",
       "    </tr>\n",
       "    <tr>\n",
       "      <th>7 Weeks - Habit &amp; Goal Tracker</th>\n",
       "      <td>-0.132576</td>\n",
       "      <td>0.471212</td>\n",
       "    </tr>\n",
       "    <tr>\n",
       "      <th>8 Ball Pool</th>\n",
       "      <td>-1.000000</td>\n",
       "      <td>0.650000</td>\n",
       "    </tr>\n",
       "    <tr>\n",
       "      <th>850 Sports News Digest</th>\n",
       "      <td>-0.500000</td>\n",
       "      <td>1.000000</td>\n",
       "    </tr>\n",
       "    <tr>\n",
       "      <th>8fit Workouts &amp; Meal Planner</th>\n",
       "      <td>-0.700000</td>\n",
       "      <td>0.800000</td>\n",
       "    </tr>\n",
       "    <tr>\n",
       "      <th>95Live -SG#1 Live Streaming App</th>\n",
       "      <td>-0.937500</td>\n",
       "      <td>1.000000</td>\n",
       "    </tr>\n",
       "    <tr>\n",
       "      <th>A Call From Santa Claus!</th>\n",
       "      <td>-1.000000</td>\n",
       "      <td>0.700000</td>\n",
       "    </tr>\n",
       "    <tr>\n",
       "      <th>A Manual of Acupuncture</th>\n",
       "      <td>NaN</td>\n",
       "      <td>NaN</td>\n",
       "    </tr>\n",
       "    <tr>\n",
       "      <th>...</th>\n",
       "      <td>...</td>\n",
       "      <td>...</td>\n",
       "    </tr>\n",
       "    <tr>\n",
       "      <th>Hole19: Golf GPS App, Rangefinder &amp; Scorecard</th>\n",
       "      <td>0.000000</td>\n",
       "      <td>1.000000</td>\n",
       "    </tr>\n",
       "    <tr>\n",
       "      <th>Home Decor Showpiece Art making: Medium Difficulty</th>\n",
       "      <td>-1.000000</td>\n",
       "      <td>0.780000</td>\n",
       "    </tr>\n",
       "    <tr>\n",
       "      <th>Home Scouting® MLS Mobile</th>\n",
       "      <td>-0.800000</td>\n",
       "      <td>1.000000</td>\n",
       "    </tr>\n",
       "    <tr>\n",
       "      <th>Home Security Camera WardenCam - reuse old phones</th>\n",
       "      <td>-0.800000</td>\n",
       "      <td>1.000000</td>\n",
       "    </tr>\n",
       "    <tr>\n",
       "      <th>Home Street – Home Design Game</th>\n",
       "      <td>-0.750000</td>\n",
       "      <td>0.600000</td>\n",
       "    </tr>\n",
       "    <tr>\n",
       "      <th>Home Workout - No Equipment</th>\n",
       "      <td>-0.016667</td>\n",
       "      <td>1.000000</td>\n",
       "    </tr>\n",
       "    <tr>\n",
       "      <th>Home Workout for Men - Bodybuilding</th>\n",
       "      <td>0.000000</td>\n",
       "      <td>1.000000</td>\n",
       "    </tr>\n",
       "    <tr>\n",
       "      <th>Home workouts - fat burning, abs, legs, arms,chest</th>\n",
       "      <td>0.050000</td>\n",
       "      <td>0.800000</td>\n",
       "    </tr>\n",
       "    <tr>\n",
       "      <th>HomeAway Vacation Rentals</th>\n",
       "      <td>NaN</td>\n",
       "      <td>NaN</td>\n",
       "    </tr>\n",
       "    <tr>\n",
       "      <th>HomeWork</th>\n",
       "      <td>1.000000</td>\n",
       "      <td>1.000000</td>\n",
       "    </tr>\n",
       "    <tr>\n",
       "      <th>Homes.com 🏠 For Sale, Rent</th>\n",
       "      <td>-0.600000</td>\n",
       "      <td>1.000000</td>\n",
       "    </tr>\n",
       "    <tr>\n",
       "      <th>Homescapes</th>\n",
       "      <td>-0.197917</td>\n",
       "      <td>0.503571</td>\n",
       "    </tr>\n",
       "    <tr>\n",
       "      <th>Homesnap Real Estate &amp; Rentals</th>\n",
       "      <td>-0.600000</td>\n",
       "      <td>1.000000</td>\n",
       "    </tr>\n",
       "    <tr>\n",
       "      <th>Homestyler Interior Design &amp; Decorating Ideas</th>\n",
       "      <td>-0.400000</td>\n",
       "      <td>0.988281</td>\n",
       "    </tr>\n",
       "    <tr>\n",
       "      <th>Homework Planner</th>\n",
       "      <td>-0.208333</td>\n",
       "      <td>0.718750</td>\n",
       "    </tr>\n",
       "    <tr>\n",
       "      <th>Honkai Impact 3rd</th>\n",
       "      <td>-0.237500</td>\n",
       "      <td>0.775000</td>\n",
       "    </tr>\n",
       "    <tr>\n",
       "      <th>Hopper - Watch &amp; Book Flights</th>\n",
       "      <td>-0.937500</td>\n",
       "      <td>0.761905</td>\n",
       "    </tr>\n",
       "    <tr>\n",
       "      <th>Horoscopes – Daily Zodiac Horoscope and Astrology</th>\n",
       "      <td>-0.040476</td>\n",
       "      <td>1.000000</td>\n",
       "    </tr>\n",
       "    <tr>\n",
       "      <th>Horses Live Wallpaper</th>\n",
       "      <td>-0.656250</td>\n",
       "      <td>1.000000</td>\n",
       "    </tr>\n",
       "    <tr>\n",
       "      <th>Hostelworld: Hostels &amp; Cheap Hotels Travel App</th>\n",
       "      <td>-1.000000</td>\n",
       "      <td>1.000000</td>\n",
       "    </tr>\n",
       "    <tr>\n",
       "      <th>Hot Wheels: Race Off</th>\n",
       "      <td>-0.625000</td>\n",
       "      <td>0.391667</td>\n",
       "    </tr>\n",
       "    <tr>\n",
       "      <th>Hot or Not - Find someone right now</th>\n",
       "      <td>NaN</td>\n",
       "      <td>NaN</td>\n",
       "    </tr>\n",
       "    <tr>\n",
       "      <th>HotelTonight: Book amazing deals at great hotels</th>\n",
       "      <td>-1.000000</td>\n",
       "      <td>1.000000</td>\n",
       "    </tr>\n",
       "    <tr>\n",
       "      <th>Hotels Combined - Cheap deals</th>\n",
       "      <td>-0.700000</td>\n",
       "      <td>1.000000</td>\n",
       "    </tr>\n",
       "    <tr>\n",
       "      <th>Hotels.com: Book Hotel Rooms &amp; Find Vacation Deals</th>\n",
       "      <td>-0.988281</td>\n",
       "      <td>0.700000</td>\n",
       "    </tr>\n",
       "    <tr>\n",
       "      <th>Hotspot Shield Free VPN Proxy &amp; Wi-Fi Security</th>\n",
       "      <td>-0.700000</td>\n",
       "      <td>1.000000</td>\n",
       "    </tr>\n",
       "    <tr>\n",
       "      <th>Hotstar</th>\n",
       "      <td>-0.555556</td>\n",
       "      <td>1.000000</td>\n",
       "    </tr>\n",
       "    <tr>\n",
       "      <th>Hotwire Hotel &amp; Car Rental App</th>\n",
       "      <td>-0.875000</td>\n",
       "      <td>0.800000</td>\n",
       "    </tr>\n",
       "    <tr>\n",
       "      <th>Housing-Real Estate &amp; Property</th>\n",
       "      <td>-0.528571</td>\n",
       "      <td>0.800000</td>\n",
       "    </tr>\n",
       "    <tr>\n",
       "      <th>Houzz Interior Design Ideas</th>\n",
       "      <td>NaN</td>\n",
       "      <td>NaN</td>\n",
       "    </tr>\n",
       "  </tbody>\n",
       "</table>\n",
       "<p>1074 rows × 2 columns</p>\n",
       "</div>"
      ],
      "text/plain": [
       "                                                    Sentiment_Polarity_min  \\\n",
       "App                                                                          \n",
       "10 Best Foods for You                                            -0.800000   \n",
       "104 找工作 - 找工作 找打工 找兼職 履歷健檢 履歷診療室                                 -0.112500   \n",
       "11st                                                             -1.000000   \n",
       "1800 Contacts - Lens Store                                       -0.300000   \n",
       "1LINE – One Line with One Touch                                  -0.825000   \n",
       "2018Emoji Keyboard 😂 Emoticons Lite -sticker&gif                 -0.800000   \n",
       "21-Day Meditation Experience                                     -0.265625   \n",
       "2Date Dating App, Love and matching                              -0.645833   \n",
       "2GIS: directory & navigator                                      -0.375000   \n",
       "2RedBeans                                                        -0.800000   \n",
       "2ndLine - Second Phone Number                                    -0.781250   \n",
       "30 Day Fitness Challenge - Workout at Home                       -0.500000   \n",
       "365Scores - Live Scores                                           0.000000   \n",
       "3D Blue Glass Water Keyboard Theme                                     NaN   \n",
       "3D Color Pixel by Number - Sandbox Art Coloring                        NaN   \n",
       "3D Live Neon Weed Launcher                                        0.136364   \n",
       "4 in a Row                                                       -0.800000   \n",
       "4K Wallpapers and Ultra HD Backgrounds                           -0.700000   \n",
       "591房屋交易-租屋、中古屋、新建案、實價登錄、別墅透天、公寓套房、捷運、買房賣房行情、房價房貸查詢               -0.300000   \n",
       "591房屋交易-香港                                                       -0.077083   \n",
       "7 Cups: Anxiety & Stress Chat                                    -0.172222   \n",
       "7 Day Food Journal Challenge                                      0.070000   \n",
       "7 Minute Workout                                                 -0.291667   \n",
       "7 Weeks - Habit & Goal Tracker                                   -0.132576   \n",
       "8 Ball Pool                                                      -1.000000   \n",
       "850 Sports News Digest                                           -0.500000   \n",
       "8fit Workouts & Meal Planner                                     -0.700000   \n",
       "95Live -SG#1 Live Streaming App                                  -0.937500   \n",
       "A Call From Santa Claus!                                         -1.000000   \n",
       "A Manual of Acupuncture                                                NaN   \n",
       "...                                                                    ...   \n",
       "Hole19: Golf GPS App, Rangefinder & Scorecard                     0.000000   \n",
       "Home Decor Showpiece Art making: Medium Difficulty               -1.000000   \n",
       "Home Scouting® MLS Mobile                                        -0.800000   \n",
       "Home Security Camera WardenCam - reuse old phones                -0.800000   \n",
       "Home Street – Home Design Game                                   -0.750000   \n",
       "Home Workout - No Equipment                                      -0.016667   \n",
       "Home Workout for Men - Bodybuilding                               0.000000   \n",
       "Home workouts - fat burning, abs, legs, arms,chest                0.050000   \n",
       "HomeAway Vacation Rentals                                              NaN   \n",
       "HomeWork                                                          1.000000   \n",
       "Homes.com 🏠 For Sale, Rent                                       -0.600000   \n",
       "Homescapes                                                       -0.197917   \n",
       "Homesnap Real Estate & Rentals                                   -0.600000   \n",
       "Homestyler Interior Design & Decorating Ideas                    -0.400000   \n",
       "Homework Planner                                                 -0.208333   \n",
       "Honkai Impact 3rd                                                -0.237500   \n",
       "Hopper - Watch & Book Flights                                    -0.937500   \n",
       "Horoscopes – Daily Zodiac Horoscope and Astrology                -0.040476   \n",
       "Horses Live Wallpaper                                            -0.656250   \n",
       "Hostelworld: Hostels & Cheap Hotels Travel App                   -1.000000   \n",
       "Hot Wheels: Race Off                                             -0.625000   \n",
       "Hot or Not - Find someone right now                                    NaN   \n",
       "HotelTonight: Book amazing deals at great hotels                 -1.000000   \n",
       "Hotels Combined - Cheap deals                                    -0.700000   \n",
       "Hotels.com: Book Hotel Rooms & Find Vacation Deals               -0.988281   \n",
       "Hotspot Shield Free VPN Proxy & Wi-Fi Security                   -0.700000   \n",
       "Hotstar                                                          -0.555556   \n",
       "Hotwire Hotel & Car Rental App                                   -0.875000   \n",
       "Housing-Real Estate & Property                                   -0.528571   \n",
       "Houzz Interior Design Ideas                                            NaN   \n",
       "\n",
       "                                                    Sentiment_Polarity_max  \n",
       "App                                                                         \n",
       "10 Best Foods for You                                             1.000000  \n",
       "104 找工作 - 找工作 找打工 找兼職 履歷健檢 履歷診療室                                  0.910000  \n",
       "11st                                                              1.000000  \n",
       "1800 Contacts - Lens Store                                        0.838542  \n",
       "1LINE – One Line with One Touch                                   1.000000  \n",
       "2018Emoji Keyboard 😂 Emoticons Lite -sticker&gif                  1.000000  \n",
       "21-Day Meditation Experience                                      0.587500  \n",
       "2Date Dating App, Love and matching                               1.000000  \n",
       "2GIS: directory & navigator                                       1.000000  \n",
       "2RedBeans                                                         1.000000  \n",
       "2ndLine - Second Phone Number                                     1.000000  \n",
       "30 Day Fitness Challenge - Workout at Home                        0.900000  \n",
       "365Scores - Live Scores                                           1.000000  \n",
       "3D Blue Glass Water Keyboard Theme                                     NaN  \n",
       "3D Color Pixel by Number - Sandbox Art Coloring                        NaN  \n",
       "3D Live Neon Weed Launcher                                        1.000000  \n",
       "4 in a Row                                                        1.000000  \n",
       "4K Wallpapers and Ultra HD Backgrounds                            0.750000  \n",
       "591房屋交易-租屋、中古屋、新建案、實價登錄、別墅透天、公寓套房、捷運、買房賣房行情、房價房貸查詢                0.700000  \n",
       "591房屋交易-香港                                                        0.700000  \n",
       "7 Cups: Anxiety & Stress Chat                                     0.812500  \n",
       "7 Day Food Journal Challenge                                      0.343333  \n",
       "7 Minute Workout                                                  1.000000  \n",
       "7 Weeks - Habit & Goal Tracker                                    0.471212  \n",
       "8 Ball Pool                                                       0.650000  \n",
       "850 Sports News Digest                                            1.000000  \n",
       "8fit Workouts & Meal Planner                                      0.800000  \n",
       "95Live -SG#1 Live Streaming App                                   1.000000  \n",
       "A Call From Santa Claus!                                          0.700000  \n",
       "A Manual of Acupuncture                                                NaN  \n",
       "...                                                                    ...  \n",
       "Hole19: Golf GPS App, Rangefinder & Scorecard                     1.000000  \n",
       "Home Decor Showpiece Art making: Medium Difficulty                0.780000  \n",
       "Home Scouting® MLS Mobile                                         1.000000  \n",
       "Home Security Camera WardenCam - reuse old phones                 1.000000  \n",
       "Home Street – Home Design Game                                    0.600000  \n",
       "Home Workout - No Equipment                                       1.000000  \n",
       "Home Workout for Men - Bodybuilding                               1.000000  \n",
       "Home workouts - fat burning, abs, legs, arms,chest                0.800000  \n",
       "HomeAway Vacation Rentals                                              NaN  \n",
       "HomeWork                                                          1.000000  \n",
       "Homes.com 🏠 For Sale, Rent                                        1.000000  \n",
       "Homescapes                                                        0.503571  \n",
       "Homesnap Real Estate & Rentals                                    1.000000  \n",
       "Homestyler Interior Design & Decorating Ideas                     0.988281  \n",
       "Homework Planner                                                  0.718750  \n",
       "Honkai Impact 3rd                                                 0.775000  \n",
       "Hopper - Watch & Book Flights                                     0.761905  \n",
       "Horoscopes – Daily Zodiac Horoscope and Astrology                 1.000000  \n",
       "Horses Live Wallpaper                                             1.000000  \n",
       "Hostelworld: Hostels & Cheap Hotels Travel App                    1.000000  \n",
       "Hot Wheels: Race Off                                              0.391667  \n",
       "Hot or Not - Find someone right now                                    NaN  \n",
       "HotelTonight: Book amazing deals at great hotels                  1.000000  \n",
       "Hotels Combined - Cheap deals                                     1.000000  \n",
       "Hotels.com: Book Hotel Rooms & Find Vacation Deals                0.700000  \n",
       "Hotspot Shield Free VPN Proxy & Wi-Fi Security                    1.000000  \n",
       "Hotstar                                                           1.000000  \n",
       "Hotwire Hotel & Car Rental App                                    0.800000  \n",
       "Housing-Real Estate & Property                                    0.800000  \n",
       "Houzz Interior Design Ideas                                            NaN  \n",
       "\n",
       "[1074 rows x 2 columns]"
      ]
     },
     "execution_count": 43,
     "metadata": {},
     "output_type": "execute_result"
    }
   ],
   "source": [
    "MinPerApp = pd.DataFrame(playstore_users.groupby('App')['Sentiment_Polarity'].min())\n",
    "MaxPerApp = pd.DataFrame(playstore_users.groupby('App')['Sentiment_Polarity'].max())\n",
    "MinMax = MinPerApp.merge(MaxPerApp, on = 'App',suffixes=['_min','_max'])\n",
    "MinMax"
   ]
  },
  {
   "cell_type": "markdown",
   "metadata": {},
   "source": [
    "**Print the total execution time:**"
   ]
  },
  {
   "cell_type": "code",
   "execution_count": 44,
   "metadata": {},
   "outputs": [
    {
     "name": "stdout",
     "output_type": "stream",
     "text": [
      "The total execution time is: 4.139536142349243\n"
     ]
    }
   ],
   "source": [
    "print(\"The total execution time is:\",time.time()-start)"
   ]
  }
 ],
 "metadata": {
  "kernelspec": {
   "display_name": "Python 3",
   "language": "python",
   "name": "python3"
  }
 },
 "nbformat": 4,
 "nbformat_minor": 2
}
